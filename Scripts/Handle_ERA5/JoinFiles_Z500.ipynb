{
 "cells": [
  {
   "cell_type": "code",
   "execution_count": 1,
   "id": "4d2a5c07-695e-478a-a45b-f06987066480",
   "metadata": {},
   "outputs": [
    {
     "name": "stderr",
     "output_type": "stream",
     "text": [
      "/glade/work/jhayron/conda-envs/weather_regimes/lib/python3.9/site-packages/tqdm/auto.py:22: TqdmWarning: IProgress not found. Please update jupyter and ipywidgets. See https://ipywidgets.readthedocs.io/en/stable/user_install.html\n",
      "  from .autonotebook import tqdm as notebook_tqdm\n"
     ]
    }
   ],
   "source": [
    "import copy\n",
    "import glob\n",
    "import pickle\n",
    "import warnings\n",
    "from datetime import datetime, timedelta\n",
    "from itertools import product\n",
    "import joblib\n",
    "\n",
    "import cartopy\n",
    "import cartopy.crs as ccrs\n",
    "import cartopy.feature\n",
    "import cartopy.feature as cfeature\n",
    "import cartopy.feature as cf\n",
    "import cartopy.io.shapereader as shpreader\n",
    "import matplotlib as mpl\n",
    "import matplotlib.path as mpath\n",
    "import matplotlib.pyplot as plt\n",
    "import numpy as np\n",
    "import pandas as pd\n",
    "import shapely.geometry as sgeom\n",
    "import xarray as xr\n",
    "from scipy import stats\n",
    "from scipy.spatial.distance import cdist\n",
    "from shapely import geometry\n",
    "from sklearn import metrics\n",
    "from sklearn.cluster import KMeans\n",
    "from sklearn.decomposition import PCA\n",
    "\n",
    "import cluster_analysis, narm_analysis, som_analysis"
   ]
  },
  {
   "cell_type": "code",
   "execution_count": 2,
   "id": "bc878bdc-35fc-472f-b023-b4b540df91e1",
   "metadata": {},
   "outputs": [
    {
     "name": "stdout",
     "output_type": "stream",
     "text": [
      "/glade/u/home/jhayron/WeatherRegimes/Scripts\n"
     ]
    }
   ],
   "source": [
    "!pwd"
   ]
  },
  {
   "cell_type": "code",
   "execution_count": 3,
   "id": "2b06cb5f-5b32-4748-9646-d51295db09a3",
   "metadata": {},
   "outputs": [],
   "source": [
    "def get_cold_indx(ds, mo_init=9, mo_end=2):\n",
    "    \"\"\"\n",
    "    Extract indices for cold season.\n",
    "    Grabbing Sept thru February init, for Oct thru March predictions.\n",
    "    \"\"\"\n",
    "    dt_array = pd.to_datetime(ds['date_range'])\n",
    "    # return dt_array\n",
    "    return xr.where((dt_array.month>=mo_init) | (dt_array.month<=mo_end), True, False)"
   ]
  },
  {
   "cell_type": "code",
   "execution_count": 4,
   "id": "e3b7a844-89c0-4fa5-8185-7b63dae900fd",
   "metadata": {},
   "outputs": [],
   "source": [
    "path_z_files = '/glade/work/jhayron/Weather_Regimes/ERA5/Daily_1degree/Z500/'"
   ]
  },
  {
   "cell_type": "code",
   "execution_count": 6,
   "id": "448b948a-c37e-4598-a634-db70e16f63f8",
   "metadata": {},
   "outputs": [],
   "source": [
    "files = np.sort(glob.glob(f'{path_z_files}*.nc'))"
   ]
  },
  {
   "cell_type": "code",
   "execution_count": 11,
   "id": "78b73465-d795-441a-92d5-9c9b4036c207",
   "metadata": {},
   "outputs": [],
   "source": [
    "lat = xr.open_dataset(files[0]).lat.values\n",
    "lon = xr.open_dataset(files[0]).lon.values"
   ]
  },
  {
   "cell_type": "code",
   "execution_count": 37,
   "id": "0036e708-5680-4c55-b5cc-7bab6462d26f",
   "metadata": {},
   "outputs": [],
   "source": [
    "data = []\n",
    "dates = []\n",
    "for i in range(len(files)):\n",
    "    vals_temp = xr.open_dataset(files[i]).z.values\n",
    "    data.append(vals_temp)\n",
    "    dates.append(datetime.strptime(files[i].split('/')[-1],'Z500_%Y_%m_%d.nc').date())"
   ]
  },
  {
   "cell_type": "code",
   "execution_count": 38,
   "id": "6c1b8f65-a452-4875-bb15-75d7b5ef49dd",
   "metadata": {},
   "outputs": [],
   "source": [
    "data = np.array(data)\n",
    "dates = np.array(dates)"
   ]
  },
  {
   "cell_type": "code",
   "execution_count": 39,
   "id": "1e62f57a-5dbf-4a79-978f-ca59b02a7437",
   "metadata": {},
   "outputs": [],
   "source": [
    "ds_resampled = xr.Dataset({\n",
    "             'z500': (['time','lat','lon'], data),\n",
    "            },\n",
    "             coords =\n",
    "            {'time': (['time'], pd.to_datetime(dates)),\n",
    "             'lat' : (['lat'], lat[:,0]),\n",
    "             'lon' : (['lon'], lon[0])\n",
    "            },\n",
    "            attrs = \n",
    "            {'File Author' : 'Jhayron S. Pérez-Carrasquilla','units':'m2/s2'})"
   ]
  },
  {
   "cell_type": "code",
   "execution_count": 40,
   "id": "82bd3a19-dbd8-4f09-8bcd-98c467e68fd6",
   "metadata": {},
   "outputs": [],
   "source": [
    "ds_resampled.to_netcdf('/glade/work/jhayron/Weather_Regimes/ERA5/Daily_1degree/netcdf_final/z500.nc')"
   ]
  }
 ],
 "metadata": {
  "kernelspec": {
   "display_name": "Python [conda env:weather_regimes]",
   "language": "python",
   "name": "conda-env-weather_regimes-py"
  },
  "language_info": {
   "codemirror_mode": {
    "name": "ipython",
    "version": 3
   },
   "file_extension": ".py",
   "mimetype": "text/x-python",
   "name": "python",
   "nbconvert_exporter": "python",
   "pygments_lexer": "ipython3",
   "version": "3.9.13"
  }
 },
 "nbformat": 4,
 "nbformat_minor": 5
}
