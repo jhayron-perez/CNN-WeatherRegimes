{
 "cells": [
  {
   "cell_type": "code",
   "execution_count": 1,
   "id": "9f074931-56b1-4d97-abf2-dc600525ddb2",
   "metadata": {},
   "outputs": [],
   "source": [
    "import copy\n",
    "import glob\n",
    "import pickle\n",
    "import warnings\n",
    "from datetime import datetime, timedelta\n",
    "from itertools import product\n",
    "import joblib\n",
    "import os\n",
    "\n",
    "import cartopy\n",
    "import cartopy.crs as ccrs\n",
    "import cartopy.feature\n",
    "import cartopy.feature as cfeature\n",
    "import cartopy.feature as cf\n",
    "import cartopy.io.shapereader as shpreader\n",
    "import matplotlib as mpl\n",
    "import matplotlib.path as mpath\n",
    "import matplotlib.pyplot as plt\n",
    "import numpy as np\n",
    "# np.random.seed(42)\n",
    "import pandas as pd\n",
    "import shapely.geometry as sgeom\n",
    "import xarray as xr\n",
    "from scipy import stats\n",
    "from scipy.spatial.distance import cdist\n",
    "from shapely import geometry\n",
    "from sklearn import metrics\n",
    "from sklearn.cluster import KMeans\n",
    "from sklearn.decomposition import PCA\n",
    "from sklearn.utils.class_weight import compute_class_weight\n",
    "\n",
    "# import cluster_analysis, narm_analysis, som_analysis"
   ]
  },
  {
   "cell_type": "code",
   "execution_count": 2,
   "id": "0a290e62-b693-402b-8129-7f4ab36d9e55",
   "metadata": {},
   "outputs": [],
   "source": [
    "# import tensorflow as tf\n",
    "# tf.test.is_gpu_available(\n",
    "#     cuda_only=False, min_cuda_compute_capability=None\n",
    "# )"
   ]
  },
  {
   "cell_type": "code",
   "execution_count": 3,
   "id": "68e7ee19-07c8-4499-a052-6b989d6b3329",
   "metadata": {},
   "outputs": [
    {
     "name": "stderr",
     "output_type": "stream",
     "text": [
      "2023-01-07 16:03:42.720513: I tensorflow/stream_executor/platform/default/dso_loader.cc:49] Successfully opened dynamic library libcudart.so.10.1\n"
     ]
    }
   ],
   "source": [
    "import keras\n",
    "from keras.models import Sequential,Model\n",
    "from keras.layers import Conv2D, MaxPooling2D, Dense, Flatten, AveragePooling2D, Dropout, BatchNormalization,SpatialDropout2D\n",
    "from keras.utils import to_categorical\n",
    "from keras.layers import LeakyReLU\n",
    "from keras.layers import ReLU\n",
    "from keras.callbacks import EarlyStopping\n",
    "from keras.callbacks import ModelCheckpoint\n",
    "\n",
    "from sklearn.model_selection import train_test_split\n",
    "from sklearn.metrics import log_loss\n",
    "from sklearn.metrics import accuracy_score\n",
    "from sklearn.metrics import balanced_accuracy_score\n",
    "\n",
    "# import visualkeras\n",
    "# import tensorflow as tf\n",
    "\n",
    "# ## GLOBAL SEED ##    \n",
    "# np.random.seed(42)\n",
    "# tf.random.set_seed(42)"
   ]
  },
  {
   "cell_type": "code",
   "execution_count": 4,
   "id": "4af67a6e-4f1e-42fe-8f23-1057214c0863",
   "metadata": {},
   "outputs": [
    {
     "name": "stderr",
     "output_type": "stream",
     "text": [
      "/glade/work/jhayron/conda-envs/cnn_wr/lib/python3.9/site-packages/tqdm/auto.py:22: TqdmWarning: IProgress not found. Please update jupyter and ipywidgets. See https://ipywidgets.readthedocs.io/en/stable/user_install.html\n",
      "  from .autonotebook import tqdm as notebook_tqdm\n"
     ]
    }
   ],
   "source": [
    "import optuna\n",
    "from optuna.samplers import TPESampler\n",
    "from optuna.integration import TFKerasPruningCallback"
   ]
  },
  {
   "cell_type": "markdown",
   "id": "73da05ac-ef73-41f3-9efd-7f1743760936",
   "metadata": {
    "tags": []
   },
   "source": [
    "# Load data"
   ]
  },
  {
   "cell_type": "markdown",
   "id": "90aee4bc-9be4-458e-b3c4-f637b16a7016",
   "metadata": {
    "tags": []
   },
   "source": [
    "## Weather regimes"
   ]
  },
  {
   "cell_type": "code",
   "execution_count": 5,
   "id": "a40047a6-fca9-4719-9b9c-0d9c0b814f5c",
   "metadata": {},
   "outputs": [],
   "source": [
    "week1_wr = pd.read_csv('/glade/work/jhayron/Weather_Regimes/weekly_wr/week1_wr_v3.csv',\\\n",
    "                      index_col = 0, parse_dates = True)\n",
    "week2_wr = pd.read_csv('/glade/work/jhayron/Weather_Regimes/weekly_wr/week2_wr_v3.csv',\\\n",
    "                      index_col = 0, parse_dates = True)\n",
    "week3_wr = pd.read_csv('/glade/work/jhayron/Weather_Regimes/weekly_wr/week3_wr_v3.csv',\\\n",
    "                      index_col = 0, parse_dates = True)\n",
    "week4_wr = pd.read_csv('/glade/work/jhayron/Weather_Regimes/weekly_wr/week4_wr_v3.csv',\\\n",
    "                      index_col = 0, parse_dates = True)\n",
    "week5_wr = pd.read_csv('/glade/work/jhayron/Weather_Regimes/weekly_wr/week5_wr_v3.csv',\\\n",
    "                      index_col = 0, parse_dates = True)\n",
    "week6_wr = pd.read_csv('/glade/work/jhayron/Weather_Regimes/weekly_wr/week6_wr_v3.csv',\\\n",
    "                      index_col = 0, parse_dates = True)\n",
    "week7_wr = pd.read_csv('/glade/work/jhayron/Weather_Regimes/weekly_wr/week7_wr_v3.csv',\\\n",
    "                      index_col = 0, parse_dates = True)\n",
    "week8_wr = pd.read_csv('/glade/work/jhayron/Weather_Regimes/weekly_wr/week8_wr_v3.csv',\\\n",
    "                      index_col = 0, parse_dates = True)\n",
    "week9_wr = pd.read_csv('/glade/work/jhayron/Weather_Regimes/weekly_wr/week9_wr_v3.csv',\\\n",
    "                      index_col = 0, parse_dates = True)\n",
    "\n",
    "df_wr = pd.concat([week1_wr,week2_wr,week3_wr,week4_wr,week5_wr,week6_wr,week7_wr,week8_wr,week9_wr],axis=1)\n",
    "df_wr.columns = ['week1','week2','week3','week4','week5','week6','week7','week8','week9']\n",
    "\n",
    "df_wr_2 = pd.read_csv('/glade/work/jhayron/Weather_Regimes/weekly_wr/weekly_wr_mean_geop_v3.csv',\n",
    "                     index_col=0,parse_dates=True)\n",
    "\n",
    "df_wr_2 = df_wr_2.dropna()\n",
    "df_wr = df_wr.dropna()"
   ]
  },
  {
   "cell_type": "markdown",
   "id": "7e404c3d-4968-4204-b0ed-fe95bfb6d6ae",
   "metadata": {
    "tags": []
   },
   "source": [
    "## Input Variables"
   ]
  },
  {
   "cell_type": "code",
   "execution_count": 6,
   "id": "beb3164d-10c0-4073-ac3a-4f8d4634b5a6",
   "metadata": {},
   "outputs": [],
   "source": [
    "variables = ['z500']\n",
    "name_var = ['z500']\n",
    "units = ['m2/s2']\n"
   ]
  },
  {
   "cell_type": "code",
   "execution_count": 7,
   "id": "caa0c0e0-15fa-47a6-8117-d6f2a8313107",
   "metadata": {
    "tags": []
   },
   "outputs": [],
   "source": [
    "dic_vars = {}\n",
    "for var_short, variable,unit in zip(name_var,variables,units):\n",
    "# for var_short, variable,unit in zip(['sst'],['sst'],['K']):\n",
    "    path_w_anoms = '/glade/work/jhayron/Weather_Regimes/weekly_anomalies/'\n",
    "    week1_anoms = xr.open_dataset(f'{path_w_anoms}week1_{variable}_anoms_v3.nc')\n",
    "    # week1_anoms = week1_anoms.sel(time=df_wr_2.index)\n",
    "    if variable=='z500':\n",
    "        week1_anoms = week1_anoms.where(week1_anoms.lat>-30,drop=True)\n",
    "    # week1_anoms = week1_anoms.sel(time=df_wr.index)\n",
    "    week1_anoms = week1_anoms.sel(time=df_wr_2.index)\n",
    "    dic_vars[variable] = week1_anoms\n",
    "    \n",
    "    ##########PLOT#####################\n",
    "#     fig = plt.figure(figsize=(9,7))\n",
    "#     ax = fig.add_subplot(111,projection=ccrs.PlateCarree(central_longitude=-90+360))\n",
    "    \n",
    "#     #     vmax = np.round(np.percentile(abs(week1_anoms[f'{var_short}_anomalies'].values[0]),100),0)\n",
    "#     #     vmin = -np.round(np.percentile(abs(week1_anoms[f'{var_short}_anomalies'].values[0]),100),0)\n",
    "    \n",
    "#     vmax = np.round(np.percentile(abs(week1_anoms[f'{var_short}_anomalies'].values[0]),100),0)\n",
    "#     vmin = -np.round(np.percentile(abs(week1_anoms[f'{var_short}_anomalies'].values[0]),100),0)\n",
    "#     # print(vmax,vmin)\n",
    "#     cs = plt.pcolormesh(week1_anoms.lon,week1_anoms.lat,\\\n",
    "#         week1_anoms[f'{var_short}_anomalies'].values[0],cmap='seismic',\n",
    "#         transform=ccrs.PlateCarree(),vmin=vmin,vmax=vmax)\n",
    "#     ax.coastlines(resolution='110m', color='k', linewidth=0.75, zorder=10)\n",
    "#     ax.margins(x=0, y=0)\n",
    "\n",
    "#     # ax.set_extent([-179, 179, 10, 90], crs=ccrs.PlateCarree())\n",
    "#     if variable!='st':\n",
    "#         plt.title(variable.upper().replace('_','-'))\n",
    "#     else:\n",
    "#         plt.title(variable.upper().replace('_','-').replace('ST','TS'))\n",
    "#     if 'region' in variable:\n",
    "#         cbar_ax = fig.add_axes([0.25, 0.19, 0.5, 0.0175])\n",
    "#     else:\n",
    "#         cbar_ax = fig.add_axes([0.25, 0.3, 0.5, 0.0175])\n",
    "#     # ticks_1 = [-80, -40, 0, 40, 80]\n",
    "#     cbar = fig.colorbar(cs, cax=cbar_ax,\n",
    "#                         orientation='horizontal', extend='both')\n",
    "#     cbar.ax.tick_params(labelsize=14)\n",
    "#     cbar.set_label(unit, fontsize=14)\n",
    "#     plt.savefig(f'/glade/u/home/jhayron/WeatherRegimes/Figures/MapsVariables/{variable}_anomalies_v2.png',bbox_inches='tight')\n",
    "#     plt.close('all')"
   ]
  },
  {
   "cell_type": "markdown",
   "id": "78b09832-3831-4dc7-aeb2-6b7b65e854e8",
   "metadata": {
    "tags": []
   },
   "source": [
    "# Build models"
   ]
  },
  {
   "cell_type": "markdown",
   "id": "472b482e-df08-4a1a-8d3d-39e9d75a8717",
   "metadata": {},
   "source": [
    "# Train"
   ]
  },
  {
   "cell_type": "code",
   "execution_count": 8,
   "id": "2458a532-676a-42e8-b19b-ee3e630ee4dc",
   "metadata": {},
   "outputs": [],
   "source": [
    "def create_model(ks,ps,type_pooling,stc,stp,do,bn,md,nfilters,activation):\n",
    "    num_classes = 4\n",
    "    \n",
    "    if activation == 'LeakyReLU':\n",
    "        activation_conv= LeakyReLU()\n",
    "    elif activation == 'ReLU':\n",
    "        activation_conv= ReLU()\n",
    "        \n",
    "    padding_type = 'same'\n",
    "    model = Sequential()\n",
    "    \n",
    "    model.add(Conv2D(nfilters, kernel_size=(ks, ks),activation=activation_conv,\n",
    "        input_shape=X_train.shape[1:],padding=padding_type,strides=stc))\n",
    "    \n",
    "    if type_pooling == 'Max':\n",
    "        model.add(MaxPooling2D((ps, ps),padding=padding_type,strides=stp))\n",
    "    elif type_pooling == 'Average':\n",
    "        model.add(AveragePooling2D((ps, ps),padding=padding_type,strides=stp))\n",
    "        \n",
    "    model.add(Dropout(do))\n",
    "    if bn==True:\n",
    "        model.add(BatchNormalization())\n",
    "        \n",
    "    model.add(Conv2D(nfilters*2, (ks, ks), activation=activation_conv,padding=padding_type,strides=stc))\n",
    "    \n",
    "    if type_pooling == 'Max':\n",
    "        model.add(MaxPooling2D((ps, ps),padding=padding_type,strides=stp))\n",
    "    elif type_pooling == 'Average':\n",
    "        model.add(AveragePooling2D((ps, ps),padding=padding_type,strides=stp))\n",
    "        \n",
    "    model.add(SpatialDropout2D(do))\n",
    "    if bn==True:\n",
    "        model.add(BatchNormalization())\n",
    "    \n",
    "    model.add(Flatten())\n",
    "    model.add(Dense(num_classes*md*md, activation=activation_conv))\n",
    "    model.add(Dense(num_classes*md, activation=activation_conv))\n",
    "    model.add(Dense(num_classes, activation='softmax'))\n",
    "\n",
    "    model.compile(loss=keras.losses.categorical_crossentropy, \n",
    "        optimizer=keras.optimizers.Adam(lr=0.001),metrics=['accuracy'])\n",
    "    return model"
   ]
  },
  {
   "cell_type": "code",
   "execution_count": 9,
   "id": "c04e4602-7006-4b85-8bdb-1af5d2b85a3a",
   "metadata": {},
   "outputs": [],
   "source": [
    "class Objective(object):\n",
    "    def __init__(self, X_train, y_train, X_val, y_val,\n",
    "                 path_models, variable, week, d_class_weights):\n",
    "        self.X_train = X_train\n",
    "        self.y_train = y_train\n",
    "        self.X_val = X_val\n",
    "        self.y_val = y_val\n",
    "        self.path_models = path_models\n",
    "        self.variable = variable\n",
    "        self.week = week\n",
    " \n",
    "    def __call__(self, trial):    \n",
    "        keras.backend.clear_session()\n",
    "                \n",
    "        ks = trial.suggest_categorical('ks',[3,5,7,9,11])\n",
    "        ps = trial.suggest_categorical('ps',[2,4,6,8,9])\n",
    "        type_pooling = trial.suggest_categorical('type_pooling',['Average','Max'])\n",
    "        stc = trial.suggest_categorical('stc',[1,2,3,4])\n",
    "        stp = trial.suggest_categorical('stp',[1,2,3,4])\n",
    "        do = trial.suggest_categorical('do',[0.3,0.4,0.5])\n",
    "        bn = trial.suggest_categorical('bn',[True,False])\n",
    "        md = trial.suggest_categorical('md',[2,4,8,16,32])\n",
    "        nfilters = trial.suggest_categorical('nfilters',[4,8,16,32,64])\n",
    "        activation = trial.suggest_categorical('activation',['LeakyReLU','ReLU'])\n",
    "        bs = trial.suggest_categorical('bs',[16,32,64])\n",
    "        \n",
    "        dict_params = {'ks':ks,\n",
    "                       'ps':ps,\n",
    "                       'type_pooling':type_pooling,\n",
    "                       'stc':stc,\n",
    "                       'stp':stp,\n",
    "                       'do':do,\n",
    "                       'bn':bn,\n",
    "                       'md':md,\n",
    "                       'nfilters':nfilters,\n",
    "                       'activation':activation,\n",
    "                       # 'lr':lr,\n",
    "                       'bs':bs}\n",
    "                                              \n",
    "        # instantiate and compile model\n",
    "        cnn_model = create_model(dict_params['ks'],\n",
    "                                 dict_params['ps'],\n",
    "                                 dict_params['type_pooling'],\n",
    "                                 dict_params['stc'],\n",
    "                                 dict_params['stp'],\n",
    "                                 dict_params['do'],\n",
    "                                 dict_params['bn'],\n",
    "                                 dict_params['md'],\n",
    "                                 dict_params['nfilters'],\n",
    "                                 dict_params['activation'],\n",
    "                                 # dict_params['lr'],\n",
    "                                )\n",
    "        \n",
    "        epochs = 50\n",
    "        earlystop = EarlyStopping(monitor='val_loss', patience=5)\n",
    "        try:\n",
    "            os.mkdir(f'{self.path_models}{self.variable}')\n",
    "        except: pass\n",
    "        filepath = f'{self.path_models}{self.variable}/model_{self.week}_v7.h5'\n",
    "        checkpoint = ModelCheckpoint(filepath, monitor='val_loss', verbose=0, save_best_only=True, \n",
    "                                     mode='auto',save_weights_only=False)\n",
    "        h = cnn_model.fit(self.X_train, self.y_train, batch_size=dict_params['bs'],\\\n",
    "            epochs=epochs,verbose=0,validation_data=(self.X_val, self.y_val), \\\n",
    "            callbacks=[checkpoint,earlystop],class_weight = d_class_weights) #TFKerasPruningCallback(trial, \"val_loss\")\n",
    "\n",
    "        validation_loss = np.min(h.history['val_loss'])\n",
    "        return validation_loss"
   ]
  },
  {
   "cell_type": "code",
   "execution_count": 10,
   "id": "5daa2338-fc25-4638-b503-36e7da6b6ea6",
   "metadata": {},
   "outputs": [],
   "source": [
    "path_models = '/glade/work/jhayron/Weather_Regimes/models/CNN/weights_variables_v7/'"
   ]
  },
  {
   "cell_type": "code",
   "execution_count": null,
   "id": "1b1c24ab-06d0-42c5-91a2-fa4a70e28111",
   "metadata": {
    "tags": []
   },
   "outputs": [
    {
     "name": "stdout",
     "output_type": "stream",
     "text": [
      "********************************************************************************************\n",
      "z500\n",
      "********************************************************************************************\n",
      "week1\n"
     ]
    },
    {
     "name": "stderr",
     "output_type": "stream",
     "text": [
      "\u001b[32m[I 2023-01-07 15:46:58,929]\u001b[0m A new study created in memory with name: no-name-103f2077-e4f2-4674-96fa-903110227f61\u001b[0m\n",
      "2023-01-07 15:46:58.941249: I tensorflow/compiler/jit/xla_cpu_device.cc:41] Not creating XLA devices, tf_xla_enable_xla_devices not set\n",
      "2023-01-07 15:46:58.942542: I tensorflow/stream_executor/platform/default/dso_loader.cc:49] Successfully opened dynamic library libcuda.so.1\n",
      "2023-01-07 15:46:58.985988: I tensorflow/core/common_runtime/gpu/gpu_device.cc:1720] Found device 0 with properties: \n",
      "pciBusID: 0000:61:00.0 name: Tesla V100-SXM2-32GB computeCapability: 7.0\n",
      "coreClock: 1.53GHz coreCount: 80 deviceMemorySize: 31.75GiB deviceMemoryBandwidth: 836.37GiB/s\n",
      "2023-01-07 15:46:58.986036: I tensorflow/stream_executor/platform/default/dso_loader.cc:49] Successfully opened dynamic library libcudart.so.10.1\n",
      "2023-01-07 15:46:58.988590: I tensorflow/stream_executor/platform/default/dso_loader.cc:49] Successfully opened dynamic library libcublas.so.10\n",
      "2023-01-07 15:46:58.988677: I tensorflow/stream_executor/platform/default/dso_loader.cc:49] Successfully opened dynamic library libcublasLt.so.10\n",
      "2023-01-07 15:46:58.990857: I tensorflow/stream_executor/platform/default/dso_loader.cc:49] Successfully opened dynamic library libcufft.so.10\n",
      "2023-01-07 15:46:58.991302: I tensorflow/stream_executor/platform/default/dso_loader.cc:49] Successfully opened dynamic library libcurand.so.10\n",
      "2023-01-07 15:46:58.993546: I tensorflow/stream_executor/platform/default/dso_loader.cc:49] Successfully opened dynamic library libcusolver.so.10\n",
      "2023-01-07 15:46:58.994541: I tensorflow/stream_executor/platform/default/dso_loader.cc:49] Successfully opened dynamic library libcusparse.so.10\n",
      "2023-01-07 15:46:58.998869: I tensorflow/stream_executor/platform/default/dso_loader.cc:49] Successfully opened dynamic library libcudnn.so.7\n",
      "2023-01-07 15:46:58.999481: I tensorflow/core/common_runtime/gpu/gpu_device.cc:1862] Adding visible gpu devices: 0\n",
      "2023-01-07 15:46:59.000141: I tensorflow/core/platform/cpu_feature_guard.cc:142] This TensorFlow binary is optimized with oneAPI Deep Neural Network Library (oneDNN) to use the following CPU instructions in performance-critical operations:  SSE4.1 SSE4.2 AVX AVX2 AVX512F FMA\n",
      "To enable them in other operations, rebuild TensorFlow with the appropriate compiler flags.\n",
      "2023-01-07 15:46:59.000207: I tensorflow/compiler/jit/xla_gpu_device.cc:99] Not creating XLA devices, tf_xla_enable_xla_devices not set\n",
      "2023-01-07 15:46:59.000557: I tensorflow/core/common_runtime/gpu/gpu_device.cc:1720] Found device 0 with properties: \n",
      "pciBusID: 0000:61:00.0 name: Tesla V100-SXM2-32GB computeCapability: 7.0\n",
      "coreClock: 1.53GHz coreCount: 80 deviceMemorySize: 31.75GiB deviceMemoryBandwidth: 836.37GiB/s\n",
      "2023-01-07 15:46:59.000583: I tensorflow/stream_executor/platform/default/dso_loader.cc:49] Successfully opened dynamic library libcudart.so.10.1\n",
      "2023-01-07 15:46:59.000597: I tensorflow/stream_executor/platform/default/dso_loader.cc:49] Successfully opened dynamic library libcublas.so.10\n",
      "2023-01-07 15:46:59.000608: I tensorflow/stream_executor/platform/default/dso_loader.cc:49] Successfully opened dynamic library libcublasLt.so.10\n",
      "2023-01-07 15:46:59.000619: I tensorflow/stream_executor/platform/default/dso_loader.cc:49] Successfully opened dynamic library libcufft.so.10\n",
      "2023-01-07 15:46:59.000630: I tensorflow/stream_executor/platform/default/dso_loader.cc:49] Successfully opened dynamic library libcurand.so.10\n",
      "2023-01-07 15:46:59.000642: I tensorflow/stream_executor/platform/default/dso_loader.cc:49] Successfully opened dynamic library libcusolver.so.10\n",
      "2023-01-07 15:46:59.000661: I tensorflow/stream_executor/platform/default/dso_loader.cc:49] Successfully opened dynamic library libcusparse.so.10\n",
      "2023-01-07 15:46:59.000672: I tensorflow/stream_executor/platform/default/dso_loader.cc:49] Successfully opened dynamic library libcudnn.so.7\n",
      "2023-01-07 15:46:59.001189: I tensorflow/core/common_runtime/gpu/gpu_device.cc:1862] Adding visible gpu devices: 0\n",
      "2023-01-07 15:46:59.001220: I tensorflow/stream_executor/platform/default/dso_loader.cc:49] Successfully opened dynamic library libcudart.so.10.1\n",
      "2023-01-07 15:46:59.556014: I tensorflow/core/common_runtime/gpu/gpu_device.cc:1261] Device interconnect StreamExecutor with strength 1 edge matrix:\n",
      "2023-01-07 15:46:59.556053: I tensorflow/core/common_runtime/gpu/gpu_device.cc:1267]      0 \n",
      "2023-01-07 15:46:59.556063: I tensorflow/core/common_runtime/gpu/gpu_device.cc:1280] 0:   N \n",
      "2023-01-07 15:46:59.557098: I tensorflow/core/common_runtime/gpu/gpu_device.cc:1406] Created TensorFlow device (/job:localhost/replica:0/task:0/device:GPU:0 with 30132 MB memory) -> physical GPU (device: 0, name: Tesla V100-SXM2-32GB, pci bus id: 0000:61:00.0, compute capability: 7.0)\n",
      "2023-01-07 15:47:00.217597: I tensorflow/compiler/mlir/mlir_graph_optimization_pass.cc:116] None of the MLIR optimization passes are enabled (registered 2)\n",
      "2023-01-07 15:47:00.218021: I tensorflow/core/platform/profile_utils/cpu_utils.cc:112] CPU Frequency: 2600000000 Hz\n",
      "2023-01-07 15:47:00.586750: I tensorflow/stream_executor/platform/default/dso_loader.cc:49] Successfully opened dynamic library libcublas.so.10\n",
      "2023-01-07 15:47:00.802077: I tensorflow/stream_executor/platform/default/dso_loader.cc:49] Successfully opened dynamic library libcudnn.so.7\n",
      "\u001b[32m[I 2023-01-07 15:47:15,613]\u001b[0m Trial 0 finished with value: 0.3536425232887268 and parameters: {'ks': 7, 'ps': 8, 'type_pooling': 'Average', 'stc': 2, 'stp': 1, 'do': 0.5, 'bn': False, 'md': 16, 'nfilters': 4, 'activation_conv': 'LeakyReLU', 'bs': 32}. Best is trial 0 with value: 0.3536425232887268.\u001b[0m\n",
      "\u001b[32m[I 2023-01-07 15:47:36,226]\u001b[0m Trial 1 finished with value: 0.7281512022018433 and parameters: {'ks': 5, 'ps': 9, 'type_pooling': 'Max', 'stc': 2, 'stp': 3, 'do': 0.4, 'bn': False, 'md': 32, 'nfilters': 16, 'activation_conv': 'ReLU', 'bs': 32}. Best is trial 0 with value: 0.3536425232887268.\u001b[0m\n"
     ]
    }
   ],
   "source": [
    "dic_metrics = {}\n",
    "\n",
    "for var_short, variable in zip(name_var,variables):\n",
    "    print('********************************************************************************************')\n",
    "    print(variable)\n",
    "    print('********************************************************************************************')\n",
    "    loss_weeks_model = []\n",
    "    loss_weeks_persistence = []\n",
    "    acc_weeks_model = []\n",
    "    acc_weeks_persistence = []\n",
    "\n",
    "    for week in ['week1','week2']:\n",
    "        print(week)\n",
    "        #### ORGANIZE DATA ####\n",
    "        week_output_wr = df_wr_2[week].values.astype(int)\n",
    "        # Make Y categorical\n",
    "        serie_wr_categorical = to_categorical(week_output_wr,num_classes=4)\n",
    "        week1_anoms = copy.deepcopy(dic_vars[variable])\n",
    "        \n",
    "        # # Scale by min-max\n",
    "        Min = week1_anoms[f'{var_short}_anomalies'].min(dim='time')\n",
    "        Max = week1_anoms[f'{var_short}_anomalies'].max(dim='time')\n",
    "        scaled_x = (week1_anoms[f'{var_short}_anomalies']) / (Max - Min)\n",
    "\n",
    "        indices = np.arange(len(serie_wr_categorical))\n",
    "        #Reshape X\n",
    "        scaled_x = scaled_x.data.reshape(-1, scaled_x.shape[1],scaled_x.shape[2], 1)\n",
    "\n",
    "        indices_train = np.where(df_wr_2.week2.index.year<=2001)[0]\n",
    "        indices_val = np.where((df_wr_2.week2.index.year>2001)&(df_wr_2.week2.index.year<=2010))[0]\n",
    "        indices_test = np.where(df_wr_2.week2.index.year>2010)[0]\n",
    "\n",
    "        X_test = scaled_x[indices_test]\n",
    "        y_test = serie_wr_categorical[indices_test]\n",
    "\n",
    "        X_train = scaled_x[indices_train]\n",
    "        y_train = serie_wr_categorical[indices_train]\n",
    "\n",
    "        X_val = scaled_x[indices_val]\n",
    "        y_val = serie_wr_categorical[indices_val]\n",
    "\n",
    "        wr_persistence = df_wr_2.week1.values.astype(int)[indices_test]\n",
    "        serie_wr_persistence_categorical = to_categorical(wr_persistence)\n",
    "        \n",
    "        y_train_integers = np.argmax(y_train, axis=1)\n",
    "        class_weights = compute_class_weight(class_weight='balanced',classes=np.unique(y_train_integers),\n",
    "                                             y = y_train_integers)\n",
    "        d_class_weights = dict(enumerate(class_weights))\n",
    "        \n",
    "        #### TRAIN ####\n",
    "        # def print_best_callback(study, trial):\n",
    "        #     print(f\"Best value: {study.best_value}, Best params: {study.best_trial.params}\")\n",
    "\n",
    "        optimizer_direction = 'minimize'\n",
    "        number_of_random_points = 50  # random searches to start opt process\n",
    "        maximum_time = 2.5*60*60  # seconds\n",
    "        objective = Objective(X_train,y_train,X_val,y_val,path_models,variable,week,d_class_weights)\n",
    "\n",
    "        # optuna.logging.set_verbosity(optuna.logging.WARNING)\n",
    "        study = optuna.create_study(direction=optimizer_direction,\n",
    "                sampler=TPESampler(n_startup_trials=number_of_random_points))\n",
    "\n",
    "        study.optimize(objective, timeout=maximum_time, gc_after_trial=True)\n",
    "        \n",
    "        results_directory = f'/glade/work/jhayron/Weather_Regimes/models/CNN/results_optuna/{week}/'\n",
    "        # save results\n",
    "        df_results = study.trials_dataframe()\n",
    "        df_results.to_pickle(results_directory + 'df_optuna_results_v2.pkl')\n",
    "        df_results.to_csv(results_directory + 'df_optuna_results_v2.csv')\n",
    "        #save study\n",
    "        joblib.dump(study, results_directory + 'optuna_study_v2.pkl')"
   ]
  },
  {
   "cell_type": "markdown",
   "id": "94e446db-d8d1-468a-9edd-7fbcc63baeac",
   "metadata": {},
   "source": [
    "# Train and save final models"
   ]
  },
  {
   "cell_type": "code",
   "execution_count": 10,
   "id": "42a747fa-fb0e-41c4-ad5c-b888138d2936",
   "metadata": {},
   "outputs": [],
   "source": [
    "path_models = '/glade/work/jhayron/Weather_Regimes/models/CNN/weights_variables_v6/'"
   ]
  },
  {
   "cell_type": "code",
   "execution_count": 11,
   "id": "eedbf0d2-2949-4c79-823a-bb520e4aa20c",
   "metadata": {},
   "outputs": [
    {
     "name": "stdout",
     "output_type": "stream",
     "text": [
      "********************************************************************************************\n",
      "z500\n",
      "********************************************************************************************\n",
      "week1\n",
      "{'ks': 11, 'ps': 5, 'st': 2, 'do': 0.2, 'md': 16, 'nfilters': 16, 'lr': 1e-05, 'bs': 16}\n"
     ]
    },
    {
     "name": "stderr",
     "output_type": "stream",
     "text": [
      "2023-01-04 18:56:54.977779: I tensorflow/compiler/jit/xla_cpu_device.cc:41] Not creating XLA devices, tf_xla_enable_xla_devices not set\n",
      "2023-01-04 18:56:54.979157: I tensorflow/stream_executor/platform/default/dso_loader.cc:49] Successfully opened dynamic library libcuda.so.1\n",
      "2023-01-04 18:56:55.009636: I tensorflow/core/common_runtime/gpu/gpu_device.cc:1720] Found device 0 with properties: \n",
      "pciBusID: 0000:8a:00.0 name: Tesla V100-SXM2-32GB computeCapability: 7.0\n",
      "coreClock: 1.53GHz coreCount: 80 deviceMemorySize: 31.75GiB deviceMemoryBandwidth: 836.37GiB/s\n",
      "2023-01-04 18:56:55.009683: I tensorflow/stream_executor/platform/default/dso_loader.cc:49] Successfully opened dynamic library libcudart.so.10.1\n",
      "2023-01-04 18:56:55.102219: I tensorflow/stream_executor/platform/default/dso_loader.cc:49] Successfully opened dynamic library libcublas.so.10\n",
      "2023-01-04 18:56:55.102262: I tensorflow/stream_executor/platform/default/dso_loader.cc:49] Successfully opened dynamic library libcublasLt.so.10\n",
      "2023-01-04 18:56:55.138937: I tensorflow/stream_executor/platform/default/dso_loader.cc:49] Successfully opened dynamic library libcufft.so.10\n",
      "2023-01-04 18:56:55.177033: I tensorflow/stream_executor/platform/default/dso_loader.cc:49] Successfully opened dynamic library libcurand.so.10\n",
      "2023-01-04 18:56:55.218089: I tensorflow/stream_executor/platform/default/dso_loader.cc:49] Successfully opened dynamic library libcusolver.so.10\n",
      "2023-01-04 18:56:55.251938: I tensorflow/stream_executor/platform/default/dso_loader.cc:49] Successfully opened dynamic library libcusparse.so.10\n",
      "2023-01-04 18:56:55.308569: I tensorflow/stream_executor/platform/default/dso_loader.cc:49] Successfully opened dynamic library libcudnn.so.7\n",
      "2023-01-04 18:56:55.309249: I tensorflow/core/common_runtime/gpu/gpu_device.cc:1862] Adding visible gpu devices: 0\n",
      "2023-01-04 18:56:55.310653: I tensorflow/core/platform/cpu_feature_guard.cc:142] This TensorFlow binary is optimized with oneAPI Deep Neural Network Library (oneDNN) to use the following CPU instructions in performance-critical operations:  SSE4.1 SSE4.2 AVX AVX2 AVX512F FMA\n",
      "To enable them in other operations, rebuild TensorFlow with the appropriate compiler flags.\n",
      "2023-01-04 18:56:55.310725: I tensorflow/compiler/jit/xla_gpu_device.cc:99] Not creating XLA devices, tf_xla_enable_xla_devices not set\n",
      "2023-01-04 18:56:55.311100: I tensorflow/core/common_runtime/gpu/gpu_device.cc:1720] Found device 0 with properties: \n",
      "pciBusID: 0000:8a:00.0 name: Tesla V100-SXM2-32GB computeCapability: 7.0\n",
      "coreClock: 1.53GHz coreCount: 80 deviceMemorySize: 31.75GiB deviceMemoryBandwidth: 836.37GiB/s\n",
      "2023-01-04 18:56:55.311127: I tensorflow/stream_executor/platform/default/dso_loader.cc:49] Successfully opened dynamic library libcudart.so.10.1\n",
      "2023-01-04 18:56:55.311142: I tensorflow/stream_executor/platform/default/dso_loader.cc:49] Successfully opened dynamic library libcublas.so.10\n",
      "2023-01-04 18:56:55.311155: I tensorflow/stream_executor/platform/default/dso_loader.cc:49] Successfully opened dynamic library libcublasLt.so.10\n",
      "2023-01-04 18:56:55.311167: I tensorflow/stream_executor/platform/default/dso_loader.cc:49] Successfully opened dynamic library libcufft.so.10\n",
      "2023-01-04 18:56:55.311179: I tensorflow/stream_executor/platform/default/dso_loader.cc:49] Successfully opened dynamic library libcurand.so.10\n",
      "2023-01-04 18:56:55.311192: I tensorflow/stream_executor/platform/default/dso_loader.cc:49] Successfully opened dynamic library libcusolver.so.10\n",
      "2023-01-04 18:56:55.311204: I tensorflow/stream_executor/platform/default/dso_loader.cc:49] Successfully opened dynamic library libcusparse.so.10\n",
      "2023-01-04 18:56:55.311216: I tensorflow/stream_executor/platform/default/dso_loader.cc:49] Successfully opened dynamic library libcudnn.so.7\n",
      "2023-01-04 18:56:55.311817: I tensorflow/core/common_runtime/gpu/gpu_device.cc:1862] Adding visible gpu devices: 0\n",
      "2023-01-04 18:56:55.311853: I tensorflow/stream_executor/platform/default/dso_loader.cc:49] Successfully opened dynamic library libcudart.so.10.1\n",
      "2023-01-04 18:56:55.882234: I tensorflow/core/common_runtime/gpu/gpu_device.cc:1261] Device interconnect StreamExecutor with strength 1 edge matrix:\n",
      "2023-01-04 18:56:55.882265: I tensorflow/core/common_runtime/gpu/gpu_device.cc:1267]      0 \n",
      "2023-01-04 18:56:55.882276: I tensorflow/core/common_runtime/gpu/gpu_device.cc:1280] 0:   N \n",
      "2023-01-04 18:56:55.883394: I tensorflow/core/common_runtime/gpu/gpu_device.cc:1406] Created TensorFlow device (/job:localhost/replica:0/task:0/device:GPU:0 with 30132 MB memory) -> physical GPU (device: 0, name: Tesla V100-SXM2-32GB, pci bus id: 0000:8a:00.0, compute capability: 7.0)\n",
      "2023-01-04 18:56:56.527200: I tensorflow/compiler/mlir/mlir_graph_optimization_pass.cc:116] None of the MLIR optimization passes are enabled (registered 2)\n",
      "2023-01-04 18:56:56.527728: I tensorflow/core/platform/profile_utils/cpu_utils.cc:112] CPU Frequency: 2300000000 Hz\n"
     ]
    },
    {
     "name": "stdout",
     "output_type": "stream",
     "text": [
      "Epoch 1/200\n"
     ]
    },
    {
     "name": "stderr",
     "output_type": "stream",
     "text": [
      "2023-01-04 18:56:56.886808: I tensorflow/stream_executor/platform/default/dso_loader.cc:49] Successfully opened dynamic library libcublas.so.10\n",
      "2023-01-04 18:56:57.102451: I tensorflow/stream_executor/platform/default/dso_loader.cc:49] Successfully opened dynamic library libcudnn.so.7\n"
     ]
    },
    {
     "name": "stdout",
     "output_type": "stream",
     "text": [
      "140/140 [==============================] - 7s 41ms/step - loss: 1.0975 - accuracy: 0.5314 - val_loss: 0.4455 - val_accuracy: 0.8184\n",
      "Epoch 2/200\n",
      "140/140 [==============================] - 5s 34ms/step - loss: 0.4098 - accuracy: 0.8595 - val_loss: 0.3401 - val_accuracy: 0.8697\n",
      "Epoch 3/200\n",
      "140/140 [==============================] - 5s 34ms/step - loss: 0.2705 - accuracy: 0.9011 - val_loss: 0.2688 - val_accuracy: 0.8910\n",
      "Epoch 4/200\n",
      "140/140 [==============================] - 5s 35ms/step - loss: 0.2152 - accuracy: 0.9072 - val_loss: 0.2433 - val_accuracy: 0.8932\n",
      "Epoch 5/200\n",
      "140/140 [==============================] - 5s 35ms/step - loss: 0.1739 - accuracy: 0.9351 - val_loss: 0.2193 - val_accuracy: 0.9103\n",
      "Epoch 6/200\n",
      "140/140 [==============================] - 5s 35ms/step - loss: 0.1276 - accuracy: 0.9593 - val_loss: 0.2259 - val_accuracy: 0.9081\n",
      "Epoch 7/200\n",
      "140/140 [==============================] - 5s 35ms/step - loss: 0.1060 - accuracy: 0.9611 - val_loss: 0.2241 - val_accuracy: 0.8974\n",
      "Epoch 8/200\n",
      "140/140 [==============================] - 5s 35ms/step - loss: 0.1109 - accuracy: 0.9577 - val_loss: 0.2241 - val_accuracy: 0.9060\n",
      "Epoch 9/200\n",
      "140/140 [==============================] - 5s 35ms/step - loss: 0.0825 - accuracy: 0.9759 - val_loss: 0.2536 - val_accuracy: 0.8974\n",
      "Epoch 10/200\n",
      "140/140 [==============================] - 4s 28ms/step - loss: 0.0903 - accuracy: 0.9652 - val_loss: 0.2133 - val_accuracy: 0.9038\n",
      "Epoch 11/200\n",
      "140/140 [==============================] - 5s 34ms/step - loss: 0.0578 - accuracy: 0.9863 - val_loss: 0.2347 - val_accuracy: 0.9038\n",
      "Epoch 12/200\n",
      "140/140 [==============================] - 5s 35ms/step - loss: 0.0610 - accuracy: 0.9829 - val_loss: 0.2204 - val_accuracy: 0.8996\n",
      "Epoch 13/200\n",
      "140/140 [==============================] - 5s 35ms/step - loss: 0.0435 - accuracy: 0.9882 - val_loss: 0.2549 - val_accuracy: 0.9103\n",
      "Epoch 14/200\n",
      "140/140 [==============================] - 5s 34ms/step - loss: 0.0370 - accuracy: 0.9888 - val_loss: 0.2479 - val_accuracy: 0.9145\n",
      "Epoch 15/200\n",
      "140/140 [==============================] - 5s 35ms/step - loss: 0.0336 - accuracy: 0.9918 - val_loss: 0.2703 - val_accuracy: 0.8868\n",
      "18/18 [==============================] - 0s 9ms/step - loss: 0.2062 - accuracy: 0.9171\n",
      "loss/acc model\n",
      "[0.20624196529388428, 0.9171171188354492]\n",
      "loss/acc persistence\n",
      "[0.0, 1.0]\n",
      "week2\n",
      "{'ks': 13, 'ps': 9, 'st': 2, 'do': 0.5, 'md': 32, 'nfilters': 32, 'lr': 1e-05, 'bs': 64}\n",
      "Epoch 1/200\n",
      "35/35 [==============================] - 7s 167ms/step - loss: 1.3329 - accuracy: 0.3360 - val_loss: 1.2141 - val_accuracy: 0.4316\n",
      "Epoch 2/200\n",
      "35/35 [==============================] - 6s 159ms/step - loss: 1.1955 - accuracy: 0.4704 - val_loss: 1.1693 - val_accuracy: 0.4530\n",
      "Epoch 3/200\n",
      "35/35 [==============================] - 6s 161ms/step - loss: 1.1226 - accuracy: 0.5234 - val_loss: 1.1595 - val_accuracy: 0.4658\n",
      "Epoch 4/200\n",
      "35/35 [==============================] - 6s 161ms/step - loss: 1.0951 - accuracy: 0.5228 - val_loss: 1.1520 - val_accuracy: 0.4615\n",
      "Epoch 5/200\n",
      "35/35 [==============================] - 6s 161ms/step - loss: 1.0648 - accuracy: 0.5460 - val_loss: 1.1521 - val_accuracy: 0.4786\n",
      "Epoch 6/200\n",
      "35/35 [==============================] - 6s 158ms/step - loss: 1.0344 - accuracy: 0.5686 - val_loss: 1.1553 - val_accuracy: 0.4744\n",
      "Epoch 7/200\n",
      "35/35 [==============================] - 6s 159ms/step - loss: 1.0002 - accuracy: 0.5821 - val_loss: 1.1491 - val_accuracy: 0.4786\n",
      "Epoch 8/200\n",
      "35/35 [==============================] - 6s 159ms/step - loss: 0.9707 - accuracy: 0.5970 - val_loss: 1.1774 - val_accuracy: 0.4679\n",
      "Epoch 9/200\n",
      "35/35 [==============================] - 6s 160ms/step - loss: 0.9287 - accuracy: 0.6219 - val_loss: 1.1750 - val_accuracy: 0.4765\n",
      "Epoch 10/200\n",
      "35/35 [==============================] - 6s 159ms/step - loss: 0.9011 - accuracy: 0.6461 - val_loss: 1.1806 - val_accuracy: 0.4679\n",
      "Epoch 11/200\n",
      "35/35 [==============================] - 6s 161ms/step - loss: 0.8841 - accuracy: 0.6416 - val_loss: 1.2038 - val_accuracy: 0.4829\n",
      "Epoch 12/200\n",
      "35/35 [==============================] - 6s 159ms/step - loss: 0.8355 - accuracy: 0.6547 - val_loss: 1.2542 - val_accuracy: 0.4551\n",
      "18/18 [==============================] - 0s 19ms/step - loss: 1.2667 - accuracy: 0.4486\n",
      "loss/acc model\n",
      "[1.2667062282562256, 0.4486486613750458]\n",
      "loss/acc persistence\n",
      "[19.78978539544183, 0.42702702702702705]\n",
      "week3\n",
      "{'ks': 5, 'ps': 13, 'st': 4, 'do': 0.3, 'md': 2, 'nfilters': 32, 'lr': 0.0001, 'bs': 16}\n",
      "Epoch 1/200\n",
      "140/140 [==============================] - 4s 27ms/step - loss: 1.3711 - accuracy: 0.3180 - val_loss: 1.3591 - val_accuracy: 0.3291\n",
      "Epoch 2/200\n",
      "140/140 [==============================] - 4s 27ms/step - loss: 1.3537 - accuracy: 0.3531 - val_loss: 1.3452 - val_accuracy: 0.3462\n",
      "Epoch 3/200\n",
      "140/140 [==============================] - 4s 27ms/step - loss: 1.3372 - accuracy: 0.3710 - val_loss: 1.3390 - val_accuracy: 0.3611\n",
      "Epoch 4/200\n",
      "140/140 [==============================] - 4s 27ms/step - loss: 1.3266 - accuracy: 0.3588 - val_loss: 1.3346 - val_accuracy: 0.3526\n",
      "Epoch 5/200\n",
      "140/140 [==============================] - 4s 27ms/step - loss: 1.3333 - accuracy: 0.3579 - val_loss: 1.3322 - val_accuracy: 0.3590\n",
      "Epoch 6/200\n",
      "140/140 [==============================] - 4s 27ms/step - loss: 1.3142 - accuracy: 0.3739 - val_loss: 1.3334 - val_accuracy: 0.3739\n",
      "Epoch 7/200\n",
      "140/140 [==============================] - 4s 27ms/step - loss: 1.3173 - accuracy: 0.3752 - val_loss: 1.3288 - val_accuracy: 0.3654\n",
      "Epoch 8/200\n",
      "140/140 [==============================] - 4s 26ms/step - loss: 1.3183 - accuracy: 0.3839 - val_loss: 1.3240 - val_accuracy: 0.3718\n",
      "Epoch 9/200\n",
      "140/140 [==============================] - 4s 27ms/step - loss: 1.3018 - accuracy: 0.3734 - val_loss: 1.3392 - val_accuracy: 0.3654\n",
      "Epoch 10/200\n",
      "140/140 [==============================] - 4s 27ms/step - loss: 1.3052 - accuracy: 0.3850 - val_loss: 1.3334 - val_accuracy: 0.3782\n",
      "Epoch 11/200\n",
      "140/140 [==============================] - 4s 26ms/step - loss: 1.2998 - accuracy: 0.3780 - val_loss: 1.3309 - val_accuracy: 0.3654\n",
      "Epoch 12/200\n",
      "140/140 [==============================] - 3s 19ms/step - loss: 1.2938 - accuracy: 0.3860 - val_loss: 1.3277 - val_accuracy: 0.3803\n",
      "Epoch 13/200\n",
      "140/140 [==============================] - 3s 25ms/step - loss: 1.2931 - accuracy: 0.3967 - val_loss: 1.3361 - val_accuracy: 0.3675\n",
      "18/18 [==============================] - 0s 8ms/step - loss: 1.3871 - accuracy: 0.3261\n",
      "loss/acc model\n",
      "[1.3871442079544067, 0.3261261284351349]\n",
      "loss/acc persistence\n",
      "[25.701828202256213, 0.25585585585585585]\n"
     ]
    }
   ],
   "source": [
    "dic_metrics = {}\n",
    "\n",
    "for var_short, variable in zip(name_var,variables):\n",
    "    print('********************************************************************************************')\n",
    "    print(variable)\n",
    "    print('********************************************************************************************')\n",
    "    loss_weeks_model = []\n",
    "    loss_weeks_persistence = []\n",
    "    acc_weeks_model = []\n",
    "    acc_weeks_persistence = []\n",
    "\n",
    "    for week in ['week1','week2','week3']:\n",
    "        print(week)\n",
    "        #### ORGANIZE DATA ####\n",
    "        week_output_wr = df_wr_2[week].values.astype(int)\n",
    "        # Make Y categorical\n",
    "        serie_wr_categorical = to_categorical(week_output_wr,num_classes=4)\n",
    "        week1_anoms = copy.deepcopy(dic_vars[variable])\n",
    "        \n",
    "        # # Scale by min-max\n",
    "        Min = week1_anoms[f'{var_short}_anomalies'].min(dim='time')\n",
    "        Max = week1_anoms[f'{var_short}_anomalies'].max(dim='time')\n",
    "        scaled_x = (week1_anoms[f'{var_short}_anomalies']) / (Max - Min)\n",
    "\n",
    "        indices = np.arange(len(serie_wr_categorical))\n",
    "        #Reshape X\n",
    "        scaled_x = scaled_x.data.reshape(-1, scaled_x.shape[1],scaled_x.shape[2], 1)\n",
    "\n",
    "        indices_train = np.where(df_wr_2.week2.index.year<=2001)[0]\n",
    "        indices_val = np.where((df_wr_2.week2.index.year>2001)&(df_wr_2.week2.index.year<=2010))[0]\n",
    "        indices_test = np.where(df_wr_2.week2.index.year>2010)[0]\n",
    "\n",
    "        X_test = scaled_x[indices_test]\n",
    "        y_test = serie_wr_categorical[indices_test]\n",
    "\n",
    "        X_train = scaled_x[indices_train]\n",
    "        y_train = serie_wr_categorical[indices_train]\n",
    "\n",
    "        X_val = scaled_x[indices_val]\n",
    "        y_val = serie_wr_categorical[indices_val]\n",
    "\n",
    "        wr_persistence = df_wr_2.week1.values.astype(int)[indices_test]\n",
    "        serie_wr_persistence_categorical = to_categorical(wr_persistence)\n",
    "        \n",
    "        ## TRAIN\n",
    "        results_directory = f'/glade/work/jhayron/Weather_Regimes/models/CNN/results_optuna/{week}/'\n",
    "        study_optuna = joblib.load(results_directory + 'optuna_study.pkl')\n",
    "        dict_params = study_optuna.best_params\n",
    "        print(dict_params)\n",
    "        keras.backend.clear_session()\n",
    "        model = create_model(dict_params['ks'],\n",
    "                             dict_params['ps'],\n",
    "                             dict_params['st'],\n",
    "                             dict_params['do'],\n",
    "                             dict_params['md'],\n",
    "                             dict_params['nfilters'],\n",
    "                             dict_params['lr'],\n",
    "                            )\n",
    "        \n",
    "        batch_size = dict_params['bs']\n",
    "        epochs = 200\n",
    "\n",
    "        earlystop = EarlyStopping(monitor='val_loss', patience=5)\n",
    "        try:\n",
    "            os.mkdir(f'{path_models}{variable}')\n",
    "        except: pass\n",
    "        filepath = f'{path_models}{variable}/model_{week}_v6.h5'\n",
    "        checkpoint = ModelCheckpoint(filepath, monitor='val_loss', verbose=0, save_best_only=True, \n",
    "                                     mode='auto',save_weights_only=False)\n",
    "        model.fit(X_train, y_train, batch_size=batch_size,\\\n",
    "            epochs=epochs,verbose=1,validation_data=(X_val, y_val), callbacks=[checkpoint,earlystop])\n",
    "\n",
    "        #### EVAL ####\n",
    "\n",
    "        model.load_weights(filepath)\n",
    "        model.save(filepath)\n",
    "        metrics_model = model.evaluate(x=X_test,y=y_test)\n",
    "        acc_temp = metrics_model[1]\n",
    "        loss_temp = metrics_model[0]\n",
    "        acc_persistence = accuracy_score(y_test,serie_wr_persistence_categorical)\n",
    "        loss_persistence = log_loss(y_test,serie_wr_persistence_categorical)\n",
    "        print('loss/acc model')\n",
    "        print(metrics_model)\n",
    "        print('loss/acc persistence')\n",
    "        print([loss_persistence,acc_persistence])\n",
    "\n",
    "        loss_weeks_model.append(loss_temp)\n",
    "        loss_weeks_persistence.append(loss_persistence)\n",
    "        acc_weeks_model.append(acc_temp)\n",
    "        acc_weeks_persistence.append(acc_persistence)"
   ]
  },
  {
   "cell_type": "code",
   "execution_count": 13,
   "id": "3c816566-cf9f-4cb3-bd13-4545175b6f0f",
   "metadata": {},
   "outputs": [
    {
     "name": "stdout",
     "output_type": "stream",
     "text": [
      "Model: \"sequential\"\n",
      "_________________________________________________________________\n",
      "Layer (type)                 Output Shape              Param #   \n",
      "=================================================================\n",
      "conv2d (Conv2D)              (None, 120, 360, 32)      832       \n",
      "_________________________________________________________________\n",
      "average_pooling2d (AveragePo (None, 30, 90, 32)        0         \n",
      "_________________________________________________________________\n",
      "dropout (Dropout)            (None, 30, 90, 32)        0         \n",
      "_________________________________________________________________\n",
      "conv2d_1 (Conv2D)            (None, 30, 90, 64)        51264     \n",
      "_________________________________________________________________\n",
      "average_pooling2d_1 (Average (None, 8, 23, 64)         0         \n",
      "_________________________________________________________________\n",
      "dropout_1 (Dropout)          (None, 8, 23, 64)         0         \n",
      "_________________________________________________________________\n",
      "flatten (Flatten)            (None, 11776)             0         \n",
      "_________________________________________________________________\n",
      "dense (Dense)                (None, 16)                188432    \n",
      "_________________________________________________________________\n",
      "dropout_2 (Dropout)          (None, 16)                0         \n",
      "_________________________________________________________________\n",
      "dense_1 (Dense)              (None, 8)                 136       \n",
      "_________________________________________________________________\n",
      "dense_2 (Dense)              (None, 4)                 36        \n",
      "=================================================================\n",
      "Total params: 240,700\n",
      "Trainable params: 240,700\n",
      "Non-trainable params: 0\n",
      "_________________________________________________________________\n"
     ]
    }
   ],
   "source": [
    "model.summary()"
   ]
  },
  {
   "cell_type": "code",
   "execution_count": null,
   "id": "7fd58f32-7c9c-4c68-a4c4-d618039d4abd",
   "metadata": {},
   "outputs": [],
   "source": [
    "visualkeras.layered_view(model, legend=True) # without custom font\n",
    "from PIL import ImageFont\n",
    "font = ImageFont.truetype(\"arial.ttf\", 12)\n",
    "visualkeras.layered_view(model, legend=True, font=font) # selected font"
   ]
  },
  {
   "cell_type": "code",
   "execution_count": null,
   "id": "5e3cc74a-f239-47ab-ad5f-b6c4e9f11901",
   "metadata": {},
   "outputs": [],
   "source": []
  },
  {
   "cell_type": "code",
   "execution_count": 22,
   "id": "d6c1e1d7-a8e8-498c-bfd7-24b5034429a1",
   "metadata": {},
   "outputs": [
    {
     "data": {
      "text/plain": [
       "0.31351351351351353"
      ]
     },
     "execution_count": 22,
     "metadata": {},
     "output_type": "execute_result"
    }
   ],
   "source": [
    "accuracy_score(model.predict(X_test).argmax(axis=1),y_test.argmax(axis=1))"
   ]
  },
  {
   "cell_type": "code",
   "execution_count": 23,
   "id": "648eb56a-7777-4a25-8177-62b7d5bedf3e",
   "metadata": {},
   "outputs": [
    {
     "data": {
      "text/plain": [
       "0.31812984809308337"
      ]
     },
     "execution_count": 23,
     "metadata": {},
     "output_type": "execute_result"
    }
   ],
   "source": [
    "balanced_accuracy_score(model.predict(X_test).argmax(axis=1),y_test.argmax(axis=1))"
   ]
  },
  {
   "cell_type": "code",
   "execution_count": 24,
   "id": "c3dec6b1-9330-4269-a54e-26739f8f2e98",
   "metadata": {},
   "outputs": [
    {
     "data": {
      "text/plain": [
       "[<matplotlib.lines.Line2D at 0x2abd2187e3a0>]"
      ]
     },
     "execution_count": 24,
     "metadata": {},
     "output_type": "execute_result"
    },
    {
     "data": {
      "image/png": "[encoded data removed]",
      "text/plain": [
       "<Figure size 640x480 with 1 Axes>"
      ]
     },
     "metadata": {},
     "output_type": "display_data"
    }
   ],
   "source": [
    "y_predicted_test = model.predict(X_test).argmax(axis=1)\n",
    "# plt.hist(y_predicted_test,density=True)\n",
    "hist = np.histogram(y_predicted_test,bins=4)[0]/np.sum(np.histogram(y_predicted_test,bins=4)[0])\n",
    "hist_real = np.histogram(y_test.argmax(axis=1),bins=4)[0]/np.sum(np.histogram(y_test.argmax(axis=1),bins=4)[0])\n",
    "plt.plot(hist)\n",
    "plt.plot(hist_real)"
   ]
  },
  {
   "cell_type": "code",
   "execution_count": 91,
   "id": "992f3d36-a0b8-4381-b9e2-c398bed8d45d",
   "metadata": {},
   "outputs": [
    {
     "name": "stdout",
     "output_type": "stream",
     "text": [
      "Model: \"sequential\"\n",
      "_________________________________________________________________\n",
      "Layer (type)                 Output Shape              Param #   \n",
      "=================================================================\n",
      "conv2d (Conv2D)              (None, 120, 360, 32)      320       \n",
      "_________________________________________________________________\n",
      "average_pooling2d (AveragePo (None, 40, 120, 32)       0         \n",
      "_________________________________________________________________\n",
      "dropout (Dropout)            (None, 40, 120, 32)       0         \n",
      "_________________________________________________________________\n",
      "conv2d_1 (Conv2D)            (None, 40, 120, 64)       18496     \n",
      "_________________________________________________________________\n",
      "average_pooling2d_1 (Average (None, 14, 40, 64)        0         \n",
      "_________________________________________________________________\n",
      "dropout_1 (Dropout)          (None, 14, 40, 64)        0         \n",
      "_________________________________________________________________\n",
      "flatten (Flatten)            (None, 35840)             0         \n",
      "_________________________________________________________________\n",
      "dense (Dense)                (None, 1024)              36701184  \n",
      "_________________________________________________________________\n",
      "dropout_2 (Dropout)          (None, 1024)              0         \n",
      "_________________________________________________________________\n",
      "dense_1 (Dense)              (None, 64)                65600     \n",
      "_________________________________________________________________\n",
      "dense_2 (Dense)              (None, 4)                 260       \n",
      "=================================================================\n",
      "Total params: 36,785,860\n",
      "Trainable params: 36,785,860\n",
      "Non-trainable params: 0\n",
      "_________________________________________________________________\n"
     ]
    }
   ],
   "source": [
    "model.summary()"
   ]
  },
  {
   "cell_type": "code",
   "execution_count": null,
   "id": "a085225d-dead-4b6d-aed6-db584359d371",
   "metadata": {},
   "outputs": [],
   "source": []
  }
 ],
 "metadata": {
  "kernelspec": {
   "display_name": "Python [conda env:cnn_wr]",
   "language": "python",
   "name": "conda-env-cnn_wr-py"
  },
  "language_info": {
   "codemirror_mode": {
    "name": "ipython",
    "version": 3
   },
   "file_extension": ".py",
   "mimetype": "text/x-python",
   "name": "python",
   "nbconvert_exporter": "python",
   "pygments_lexer": "ipython3",
   "version": "3.9.15"
  }
 },
 "nbformat": 4,
 "nbformat_minor": 5
}
