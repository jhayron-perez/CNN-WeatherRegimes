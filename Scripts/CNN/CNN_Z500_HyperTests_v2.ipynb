{
 "cells": [
  {
   "cell_type": "code",
   "execution_count": 1,
   "id": "9f074931-56b1-4d97-abf2-dc600525ddb2",
   "metadata": {},
   "outputs": [],
   "source": [
    "import copy\n",
    "import glob\n",
    "import pickle\n",
    "import warnings\n",
    "from datetime import datetime, timedelta\n",
    "from itertools import product\n",
    "import joblib\n",
    "import os\n",
    "\n",
    "import cartopy\n",
    "import cartopy.crs as ccrs\n",
    "import cartopy.feature\n",
    "import cartopy.feature as cfeature\n",
    "import cartopy.feature as cf\n",
    "import cartopy.io.shapereader as shpreader\n",
    "import matplotlib as mpl\n",
    "import matplotlib.path as mpath\n",
    "import matplotlib.pyplot as plt\n",
    "import numpy as np\n",
    "# np.random.seed(42)\n",
    "import pandas as pd\n",
    "import shapely.geometry as sgeom\n",
    "import xarray as xr\n",
    "from scipy import stats\n",
    "from scipy.spatial.distance import cdist\n",
    "from shapely import geometry\n",
    "from sklearn import metrics\n",
    "from sklearn.cluster import KMeans\n",
    "from sklearn.decomposition import PCA\n",
    "\n",
    "# import cluster_analysis, narm_analysis, som_analysis"
   ]
  },
  {
   "cell_type": "code",
   "execution_count": 2,
   "id": "68e7ee19-07c8-4499-a052-6b989d6b3329",
   "metadata": {},
   "outputs": [
    {
     "name": "stderr",
     "output_type": "stream",
     "text": [
      "2023-01-04 18:29:45.205806: I tensorflow/stream_executor/platform/default/dso_loader.cc:49] Successfully opened dynamic library libcudart.so.10.1\n"
     ]
    },
    {
     "ename": "KeyboardInterrupt",
     "evalue": "",
     "output_type": "error",
     "traceback": [
      "\u001b[0;31m---------------------------------------------------------------------------\u001b[0m",
      "\u001b[0;31mKeyboardInterrupt\u001b[0m                         Traceback (most recent call last)",
      "Cell \u001b[0;32mIn[2], line 1\u001b[0m\n\u001b[0;32m----> 1\u001b[0m \u001b[38;5;28;01mimport\u001b[39;00m \u001b[38;5;21;01mkeras\u001b[39;00m\n\u001b[1;32m      2\u001b[0m \u001b[38;5;28;01mfrom\u001b[39;00m \u001b[38;5;21;01mkeras\u001b[39;00m\u001b[38;5;21;01m.\u001b[39;00m\u001b[38;5;21;01mmodels\u001b[39;00m \u001b[38;5;28;01mimport\u001b[39;00m Sequential,Model\n\u001b[1;32m      3\u001b[0m \u001b[38;5;28;01mfrom\u001b[39;00m \u001b[38;5;21;01mkeras\u001b[39;00m\u001b[38;5;21;01m.\u001b[39;00m\u001b[38;5;21;01mlayers\u001b[39;00m \u001b[38;5;28;01mimport\u001b[39;00m Conv2D, MaxPooling2D, Dense, Flatten, AveragePooling2D, Dropout\n",
      "File \u001b[0;32m/glade/work/jhayron/conda-envs/cnn_wr/lib/python3.9/site-packages/keras/__init__.py:3\u001b[0m\n\u001b[1;32m      2\u001b[0m \u001b[38;5;28;01mtry\u001b[39;00m:\n\u001b[0;32m----> 3\u001b[0m     \u001b[38;5;28;01mfrom\u001b[39;00m \u001b[38;5;21;01mtensorflow\u001b[39;00m\u001b[38;5;21;01m.\u001b[39;00m\u001b[38;5;21;01mkeras\u001b[39;00m\u001b[38;5;21;01m.\u001b[39;00m\u001b[38;5;21;01mlayers\u001b[39;00m\u001b[38;5;21;01m.\u001b[39;00m\u001b[38;5;21;01mexperimental\u001b[39;00m\u001b[38;5;21;01m.\u001b[39;00m\u001b[38;5;21;01mpreprocessing\u001b[39;00m \u001b[38;5;28;01mimport\u001b[39;00m RandomRotation\n\u001b[1;32m      4\u001b[0m \u001b[38;5;28;01mexcept\u001b[39;00m \u001b[38;5;167;01mImportError\u001b[39;00m:\n\u001b[1;32m      5\u001b[0m     \u001b[38;5;28;01mraise\u001b[39;00m \u001b[38;5;167;01mImportError\u001b[39;00m(\n\u001b[1;32m      6\u001b[0m         \u001b[38;5;124m'\u001b[39m\u001b[38;5;124mKeras requires TensorFlow 2.2 or higher. \u001b[39m\u001b[38;5;124m'\u001b[39m\n\u001b[1;32m      7\u001b[0m         \u001b[38;5;124m'\u001b[39m\u001b[38;5;124mInstall TensorFlow via `pip install tensorflow`\u001b[39m\u001b[38;5;124m'\u001b[39m)\n",
      "File \u001b[0;32m/glade/work/jhayron/conda-envs/cnn_wr/lib/python3.9/site-packages/tensorflow/__init__.py:55\u001b[0m\n\u001b[1;32m     53\u001b[0m \u001b[38;5;28;01mfrom\u001b[39;00m \u001b[38;5;21;01m.\u001b[39;00m\u001b[38;5;21;01m_api\u001b[39;00m\u001b[38;5;21;01m.\u001b[39;00m\u001b[38;5;21;01mv2\u001b[39;00m \u001b[38;5;28;01mimport\u001b[39;00m autograph\n\u001b[1;32m     54\u001b[0m \u001b[38;5;28;01mfrom\u001b[39;00m \u001b[38;5;21;01m.\u001b[39;00m\u001b[38;5;21;01m_api\u001b[39;00m\u001b[38;5;21;01m.\u001b[39;00m\u001b[38;5;21;01mv2\u001b[39;00m \u001b[38;5;28;01mimport\u001b[39;00m bitwise\n\u001b[0;32m---> 55\u001b[0m \u001b[38;5;28;01mfrom\u001b[39;00m \u001b[38;5;21;01m.\u001b[39;00m\u001b[38;5;21;01m_api\u001b[39;00m\u001b[38;5;21;01m.\u001b[39;00m\u001b[38;5;21;01mv2\u001b[39;00m \u001b[38;5;28;01mimport\u001b[39;00m compat\n\u001b[1;32m     56\u001b[0m \u001b[38;5;28;01mfrom\u001b[39;00m \u001b[38;5;21;01m.\u001b[39;00m\u001b[38;5;21;01m_api\u001b[39;00m\u001b[38;5;21;01m.\u001b[39;00m\u001b[38;5;21;01mv2\u001b[39;00m \u001b[38;5;28;01mimport\u001b[39;00m config\n\u001b[1;32m     57\u001b[0m \u001b[38;5;28;01mfrom\u001b[39;00m \u001b[38;5;21;01m.\u001b[39;00m\u001b[38;5;21;01m_api\u001b[39;00m\u001b[38;5;21;01m.\u001b[39;00m\u001b[38;5;21;01mv2\u001b[39;00m \u001b[38;5;28;01mimport\u001b[39;00m data\n",
      "File \u001b[0;32m/glade/work/jhayron/conda-envs/cnn_wr/lib/python3.9/site-packages/tensorflow/_api/v2/compat/__init__.py:39\u001b[0m\n\u001b[1;32m     35\u001b[0m \u001b[38;5;28;01mfrom\u001b[39;00m \u001b[38;5;21;01m__future__\u001b[39;00m \u001b[38;5;28;01mimport\u001b[39;00m print_function \u001b[38;5;28;01mas\u001b[39;00m _print_function\n\u001b[1;32m     37\u001b[0m \u001b[38;5;28;01mimport\u001b[39;00m \u001b[38;5;21;01msys\u001b[39;00m \u001b[38;5;28;01mas\u001b[39;00m \u001b[38;5;21;01m_sys\u001b[39;00m\n\u001b[0;32m---> 39\u001b[0m \u001b[38;5;28;01mfrom\u001b[39;00m \u001b[38;5;21;01m.\u001b[39;00m \u001b[38;5;28;01mimport\u001b[39;00m v1\n\u001b[1;32m     40\u001b[0m \u001b[38;5;28;01mfrom\u001b[39;00m \u001b[38;5;21;01m.\u001b[39;00m \u001b[38;5;28;01mimport\u001b[39;00m v2\n\u001b[1;32m     41\u001b[0m \u001b[38;5;28;01mfrom\u001b[39;00m \u001b[38;5;21;01mtensorflow\u001b[39;00m\u001b[38;5;21;01m.\u001b[39;00m\u001b[38;5;21;01mpython\u001b[39;00m\u001b[38;5;21;01m.\u001b[39;00m\u001b[38;5;21;01mcompat\u001b[39;00m\u001b[38;5;21;01m.\u001b[39;00m\u001b[38;5;21;01mcompat\u001b[39;00m \u001b[38;5;28;01mimport\u001b[39;00m forward_compatibility_horizon\n",
      "File \u001b[0;32m/glade/work/jhayron/conda-envs/cnn_wr/lib/python3.9/site-packages/tensorflow/_api/v2/compat/v1/__init__.py:34\u001b[0m\n\u001b[1;32m     32\u001b[0m \u001b[38;5;28;01mfrom\u001b[39;00m \u001b[38;5;21;01m.\u001b[39;00m \u001b[38;5;28;01mimport\u001b[39;00m autograph\n\u001b[1;32m     33\u001b[0m \u001b[38;5;28;01mfrom\u001b[39;00m \u001b[38;5;21;01m.\u001b[39;00m \u001b[38;5;28;01mimport\u001b[39;00m bitwise\n\u001b[0;32m---> 34\u001b[0m \u001b[38;5;28;01mfrom\u001b[39;00m \u001b[38;5;21;01m.\u001b[39;00m \u001b[38;5;28;01mimport\u001b[39;00m compat\n\u001b[1;32m     35\u001b[0m \u001b[38;5;28;01mfrom\u001b[39;00m \u001b[38;5;21;01m.\u001b[39;00m \u001b[38;5;28;01mimport\u001b[39;00m config\n\u001b[1;32m     36\u001b[0m \u001b[38;5;28;01mfrom\u001b[39;00m \u001b[38;5;21;01m.\u001b[39;00m \u001b[38;5;28;01mimport\u001b[39;00m data\n",
      "File \u001b[0;32m/glade/work/jhayron/conda-envs/cnn_wr/lib/python3.9/site-packages/tensorflow/_api/v2/compat/v1/compat/__init__.py:39\u001b[0m\n\u001b[1;32m     35\u001b[0m \u001b[38;5;28;01mfrom\u001b[39;00m \u001b[38;5;21;01m__future__\u001b[39;00m \u001b[38;5;28;01mimport\u001b[39;00m print_function \u001b[38;5;28;01mas\u001b[39;00m _print_function\n\u001b[1;32m     37\u001b[0m \u001b[38;5;28;01mimport\u001b[39;00m \u001b[38;5;21;01msys\u001b[39;00m \u001b[38;5;28;01mas\u001b[39;00m \u001b[38;5;21;01m_sys\u001b[39;00m\n\u001b[0;32m---> 39\u001b[0m \u001b[38;5;28;01mfrom\u001b[39;00m \u001b[38;5;21;01m.\u001b[39;00m \u001b[38;5;28;01mimport\u001b[39;00m v1\n\u001b[1;32m     40\u001b[0m \u001b[38;5;28;01mfrom\u001b[39;00m \u001b[38;5;21;01m.\u001b[39;00m \u001b[38;5;28;01mimport\u001b[39;00m v2\n\u001b[1;32m     41\u001b[0m \u001b[38;5;28;01mfrom\u001b[39;00m \u001b[38;5;21;01mtensorflow\u001b[39;00m\u001b[38;5;21;01m.\u001b[39;00m\u001b[38;5;21;01mpython\u001b[39;00m\u001b[38;5;21;01m.\u001b[39;00m\u001b[38;5;21;01mcompat\u001b[39;00m\u001b[38;5;21;01m.\u001b[39;00m\u001b[38;5;21;01mcompat\u001b[39;00m \u001b[38;5;28;01mimport\u001b[39;00m forward_compatibility_horizon\n",
      "File \u001b[0;32m/glade/work/jhayron/conda-envs/cnn_wr/lib/python3.9/site-packages/tensorflow/_api/v2/compat/v1/compat/v1/__init__.py:78\u001b[0m\n\u001b[1;32m     76\u001b[0m \u001b[38;5;28;01mfrom\u001b[39;00m \u001b[38;5;21;01mtensorflow\u001b[39;00m\u001b[38;5;21;01m.\u001b[39;00m\u001b[38;5;21;01m_api\u001b[39;00m\u001b[38;5;21;01m.\u001b[39;00m\u001b[38;5;21;01mv2\u001b[39;00m\u001b[38;5;21;01m.\u001b[39;00m\u001b[38;5;21;01mcompat\u001b[39;00m\u001b[38;5;21;01m.\u001b[39;00m\u001b[38;5;21;01mv1\u001b[39;00m \u001b[38;5;28;01mimport\u001b[39;00m summary\n\u001b[1;32m     77\u001b[0m \u001b[38;5;28;01mfrom\u001b[39;00m \u001b[38;5;21;01mtensorflow\u001b[39;00m\u001b[38;5;21;01m.\u001b[39;00m\u001b[38;5;21;01m_api\u001b[39;00m\u001b[38;5;21;01m.\u001b[39;00m\u001b[38;5;21;01mv2\u001b[39;00m\u001b[38;5;21;01m.\u001b[39;00m\u001b[38;5;21;01mcompat\u001b[39;00m\u001b[38;5;21;01m.\u001b[39;00m\u001b[38;5;21;01mv1\u001b[39;00m \u001b[38;5;28;01mimport\u001b[39;00m sysconfig\n\u001b[0;32m---> 78\u001b[0m \u001b[38;5;28;01mfrom\u001b[39;00m \u001b[38;5;21;01mtensorflow\u001b[39;00m\u001b[38;5;21;01m.\u001b[39;00m\u001b[38;5;21;01m_api\u001b[39;00m\u001b[38;5;21;01m.\u001b[39;00m\u001b[38;5;21;01mv2\u001b[39;00m\u001b[38;5;21;01m.\u001b[39;00m\u001b[38;5;21;01mcompat\u001b[39;00m\u001b[38;5;21;01m.\u001b[39;00m\u001b[38;5;21;01mv1\u001b[39;00m \u001b[38;5;28;01mimport\u001b[39;00m test\n\u001b[1;32m     79\u001b[0m \u001b[38;5;28;01mfrom\u001b[39;00m \u001b[38;5;21;01mtensorflow\u001b[39;00m\u001b[38;5;21;01m.\u001b[39;00m\u001b[38;5;21;01m_api\u001b[39;00m\u001b[38;5;21;01m.\u001b[39;00m\u001b[38;5;21;01mv2\u001b[39;00m\u001b[38;5;21;01m.\u001b[39;00m\u001b[38;5;21;01mcompat\u001b[39;00m\u001b[38;5;21;01m.\u001b[39;00m\u001b[38;5;21;01mv1\u001b[39;00m \u001b[38;5;28;01mimport\u001b[39;00m tpu\n\u001b[1;32m     80\u001b[0m \u001b[38;5;28;01mfrom\u001b[39;00m \u001b[38;5;21;01mtensorflow\u001b[39;00m\u001b[38;5;21;01m.\u001b[39;00m\u001b[38;5;21;01m_api\u001b[39;00m\u001b[38;5;21;01m.\u001b[39;00m\u001b[38;5;21;01mv2\u001b[39;00m\u001b[38;5;21;01m.\u001b[39;00m\u001b[38;5;21;01mcompat\u001b[39;00m\u001b[38;5;21;01m.\u001b[39;00m\u001b[38;5;21;01mv1\u001b[39;00m \u001b[38;5;28;01mimport\u001b[39;00m train\n",
      "File \u001b[0;32m<frozen importlib._bootstrap>:1007\u001b[0m, in \u001b[0;36m_find_and_load\u001b[0;34m(name, import_)\u001b[0m\n",
      "File \u001b[0;32m<frozen importlib._bootstrap>:986\u001b[0m, in \u001b[0;36m_find_and_load_unlocked\u001b[0;34m(name, import_)\u001b[0m\n",
      "File \u001b[0;32m<frozen importlib._bootstrap>:680\u001b[0m, in \u001b[0;36m_load_unlocked\u001b[0;34m(spec)\u001b[0m\n",
      "File \u001b[0;32m<frozen importlib._bootstrap_external>:846\u001b[0m, in \u001b[0;36mexec_module\u001b[0;34m(self, module)\u001b[0m\n",
      "File \u001b[0;32m<frozen importlib._bootstrap_external>:935\u001b[0m, in \u001b[0;36mget_code\u001b[0;34m(self, fullname)\u001b[0m\n",
      "File \u001b[0;32m<frozen importlib._bootstrap_external>:1079\u001b[0m, in \u001b[0;36mpath_stats\u001b[0;34m(self, path)\u001b[0m\n",
      "File \u001b[0;32m<frozen importlib._bootstrap_external>:142\u001b[0m, in \u001b[0;36m_path_stat\u001b[0;34m(path)\u001b[0m\n",
      "\u001b[0;31mKeyboardInterrupt\u001b[0m: "
     ]
    }
   ],
   "source": [
    "import keras\n",
    "from keras.models import Sequential,Model\n",
    "from keras.layers import Conv2D, MaxPooling2D, Dense, Flatten, AveragePooling2D, Dropout\n",
    "from keras.utils import to_categorical\n",
    "from keras.layers import LeakyReLU\n",
    "from keras.layers import ReLU\n",
    "from keras.callbacks import EarlyStopping\n",
    "from keras.callbacks import ModelCheckpoint\n",
    "\n",
    "from sklearn.model_selection import train_test_split\n",
    "from sklearn.metrics import log_loss\n",
    "from sklearn.metrics import accuracy_score\n",
    "from sklearn.metrics import balanced_accuracy_score\n",
    "\n",
    "# import visualkeras\n",
    "# import tensorflow as tf\n",
    "\n",
    "# ## GLOBAL SEED ##    \n",
    "# np.random.seed(42)\n",
    "# tf.random.set_seed(42)"
   ]
  },
  {
   "cell_type": "markdown",
   "id": "73da05ac-ef73-41f3-9efd-7f1743760936",
   "metadata": {
    "tags": []
   },
   "source": [
    "# Load data"
   ]
  },
  {
   "cell_type": "markdown",
   "id": "90aee4bc-9be4-458e-b3c4-f637b16a7016",
   "metadata": {
    "tags": []
   },
   "source": [
    "## Weather regimes"
   ]
  },
  {
   "cell_type": "code",
   "execution_count": 3,
   "id": "a40047a6-fca9-4719-9b9c-0d9c0b814f5c",
   "metadata": {},
   "outputs": [],
   "source": [
    "week1_wr = pd.read_csv('/glade/work/jhayron/Weather_Regimes/weekly_wr/week1_wr_v3.csv',\\\n",
    "                      index_col = 0, parse_dates = True)\n",
    "week2_wr = pd.read_csv('/glade/work/jhayron/Weather_Regimes/weekly_wr/week2_wr_v3.csv',\\\n",
    "                      index_col = 0, parse_dates = True)\n",
    "week3_wr = pd.read_csv('/glade/work/jhayron/Weather_Regimes/weekly_wr/week3_wr_v3.csv',\\\n",
    "                      index_col = 0, parse_dates = True)\n",
    "week4_wr = pd.read_csv('/glade/work/jhayron/Weather_Regimes/weekly_wr/week4_wr_v3.csv',\\\n",
    "                      index_col = 0, parse_dates = True)\n",
    "week5_wr = pd.read_csv('/glade/work/jhayron/Weather_Regimes/weekly_wr/week5_wr_v3.csv',\\\n",
    "                      index_col = 0, parse_dates = True)\n",
    "week6_wr = pd.read_csv('/glade/work/jhayron/Weather_Regimes/weekly_wr/week6_wr_v3.csv',\\\n",
    "                      index_col = 0, parse_dates = True)\n",
    "week7_wr = pd.read_csv('/glade/work/jhayron/Weather_Regimes/weekly_wr/week7_wr_v3.csv',\\\n",
    "                      index_col = 0, parse_dates = True)\n",
    "week8_wr = pd.read_csv('/glade/work/jhayron/Weather_Regimes/weekly_wr/week8_wr_v3.csv',\\\n",
    "                      index_col = 0, parse_dates = True)\n",
    "week9_wr = pd.read_csv('/glade/work/jhayron/Weather_Regimes/weekly_wr/week9_wr_v3.csv',\\\n",
    "                      index_col = 0, parse_dates = True)\n",
    "\n",
    "df_wr = pd.concat([week1_wr,week2_wr,week3_wr,week4_wr,week5_wr,week6_wr,week7_wr,week8_wr,week9_wr],axis=1)\n",
    "df_wr.columns = ['week1','week2','week3','week4','week5','week6','week7','week8','week9']\n",
    "\n",
    "df_wr_2 = pd.read_csv('/glade/work/jhayron/Weather_Regimes/weekly_wr/weekly_wr_mean_geop_v3.csv',\n",
    "                     index_col=0,parse_dates=True)\n",
    "\n",
    "df_wr_2 = df_wr_2.dropna()\n",
    "df_wr = df_wr.dropna()"
   ]
  },
  {
   "cell_type": "markdown",
   "id": "7e404c3d-4968-4204-b0ed-fe95bfb6d6ae",
   "metadata": {
    "tags": []
   },
   "source": [
    "## Input Variables"
   ]
  },
  {
   "cell_type": "code",
   "execution_count": 4,
   "id": "beb3164d-10c0-4073-ac3a-4f8d4634b5a6",
   "metadata": {},
   "outputs": [],
   "source": [
    "variables = ['z500']\n",
    "name_var = ['z500']\n",
    "units = ['m2/s2']\n"
   ]
  },
  {
   "cell_type": "code",
   "execution_count": 5,
   "id": "caa0c0e0-15fa-47a6-8117-d6f2a8313107",
   "metadata": {
    "tags": []
   },
   "outputs": [],
   "source": [
    "dic_vars = {}\n",
    "for var_short, variable,unit in zip(name_var,variables,units):\n",
    "# for var_short, variable,unit in zip(['sst'],['sst'],['K']):\n",
    "    path_w_anoms = '/glade/work/jhayron/Weather_Regimes/weekly_anomalies/'\n",
    "    week1_anoms = xr.open_dataset(f'{path_w_anoms}week1_{variable}_anoms_v3.nc')\n",
    "    # week1_anoms = week1_anoms.sel(time=df_wr_2.index)\n",
    "    if variable=='z500':\n",
    "        week1_anoms = week1_anoms.where(week1_anoms.lat>-30,drop=True)\n",
    "    # week1_anoms = week1_anoms.sel(time=df_wr.index)\n",
    "    week1_anoms = week1_anoms.sel(time=df_wr_2.index)\n",
    "    dic_vars[variable] = week1_anoms\n",
    "    \n",
    "    ##########PLOT#####################\n",
    "#     fig = plt.figure(figsize=(9,7))\n",
    "#     ax = fig.add_subplot(111,projection=ccrs.PlateCarree(central_longitude=-90+360))\n",
    "    \n",
    "#     #     vmax = np.round(np.percentile(abs(week1_anoms[f'{var_short}_anomalies'].values[0]),100),0)\n",
    "#     #     vmin = -np.round(np.percentile(abs(week1_anoms[f'{var_short}_anomalies'].values[0]),100),0)\n",
    "    \n",
    "#     vmax = np.round(np.percentile(abs(week1_anoms[f'{var_short}_anomalies'].values[0]),100),0)\n",
    "#     vmin = -np.round(np.percentile(abs(week1_anoms[f'{var_short}_anomalies'].values[0]),100),0)\n",
    "#     # print(vmax,vmin)\n",
    "#     cs = plt.pcolormesh(week1_anoms.lon,week1_anoms.lat,\\\n",
    "#         week1_anoms[f'{var_short}_anomalies'].values[0],cmap='seismic',\n",
    "#         transform=ccrs.PlateCarree(),vmin=vmin,vmax=vmax)\n",
    "#     ax.coastlines(resolution='110m', color='k', linewidth=0.75, zorder=10)\n",
    "#     ax.margins(x=0, y=0)\n",
    "\n",
    "#     # ax.set_extent([-179, 179, 10, 90], crs=ccrs.PlateCarree())\n",
    "#     if variable!='st':\n",
    "#         plt.title(variable.upper().replace('_','-'))\n",
    "#     else:\n",
    "#         plt.title(variable.upper().replace('_','-').replace('ST','TS'))\n",
    "#     if 'region' in variable:\n",
    "#         cbar_ax = fig.add_axes([0.25, 0.19, 0.5, 0.0175])\n",
    "#     else:\n",
    "#         cbar_ax = fig.add_axes([0.25, 0.3, 0.5, 0.0175])\n",
    "#     # ticks_1 = [-80, -40, 0, 40, 80]\n",
    "#     cbar = fig.colorbar(cs, cax=cbar_ax,\n",
    "#                         orientation='horizontal', extend='both')\n",
    "#     cbar.ax.tick_params(labelsize=14)\n",
    "#     cbar.set_label(unit, fontsize=14)\n",
    "#     plt.savefig(f'/glade/u/home/jhayron/WeatherRegimes/Figures/MapsVariables/{variable}_anomalies_v2.png',bbox_inches='tight')\n",
    "#     plt.close('all')"
   ]
  },
  {
   "cell_type": "markdown",
   "id": "78b09832-3831-4dc7-aeb2-6b7b65e854e8",
   "metadata": {
    "tags": []
   },
   "source": [
    "# Build models"
   ]
  },
  {
   "cell_type": "markdown",
   "id": "472b482e-df08-4a1a-8d3d-39e9d75a8717",
   "metadata": {},
   "source": [
    "# Train"
   ]
  },
  {
   "cell_type": "code",
   "execution_count": 6,
   "id": "0c4fae9b-386f-4448-92e3-8d9635719795",
   "metadata": {},
   "outputs": [],
   "source": [
    "## Start with a simple net, 2 convolutional layers, 2 dense layers\n",
    "## 8 filters"
   ]
  },
  {
   "cell_type": "code",
   "execution_count": 85,
   "id": "f2aafbf6-aa12-479e-bc0e-f6896f991198",
   "metadata": {},
   "outputs": [],
   "source": [
    "def create_model(activation_conv = LeakyReLU()):\n",
    "    num_classes = 4\n",
    "    # alpha=0.01\n",
    "    ks = 3\n",
    "    ps = 5\n",
    "    st = 3\n",
    "    do = 0.4\n",
    "    md = 16\n",
    "    nfilters=32\n",
    "    padding_type = 'same'\n",
    "    model = Sequential()\n",
    "    model.add(Conv2D(nfilters, kernel_size=(ks, ks),activation=activation_conv,\n",
    "        input_shape=X_train.shape[1:],padding=padding_type))\n",
    "    model.add(AveragePooling2D((ps, ps),padding=padding_type,strides=st))\n",
    "    model.add(Dropout(do))\n",
    "    model.add(Conv2D(nfilters*2, (ks, ks), activation=activation_conv,padding=padding_type))\n",
    "    model.add(AveragePooling2D((ps, ps),padding=padding_type,strides=st))\n",
    "    model.add(Dropout(do))\n",
    "\n",
    "\n",
    "    model.add(Flatten())\n",
    "    model.add(Dense(num_classes*md*md, activation=activation_conv))\n",
    "    model.add(Dropout(do))\n",
    "    model.add(Dense(num_classes*md, activation=activation_conv))\n",
    "\n",
    "    model.add(Dense(num_classes, activation='softmax'))\n",
    "\n",
    "    model.compile(loss=keras.losses.categorical_crossentropy, \n",
    "        optimizer=keras.optimizers.Adam(lr=0.00001),metrics=['accuracy'])\n",
    "    return model\n"
   ]
  },
  {
   "cell_type": "code",
   "execution_count": 86,
   "id": "5daa2338-fc25-4638-b503-36e7da6b6ea6",
   "metadata": {},
   "outputs": [],
   "source": [
    "path_models = '/glade/work/jhayron/Weather_Regimes/models/CNN/weights_variables_v5/'"
   ]
  },
  {
   "cell_type": "code",
   "execution_count": 87,
   "id": "1b1c24ab-06d0-42c5-91a2-fa4a70e28111",
   "metadata": {
    "tags": []
   },
   "outputs": [
    {
     "name": "stdout",
     "output_type": "stream",
     "text": [
      "********************************************************************************************\n",
      "z500\n",
      "********************************************************************************************\n",
      "week3\n",
      "Epoch 1/200\n",
      "140/140 [==============================] - 5s 30ms/step - loss: 1.3638 - accuracy: 0.3303 - val_loss: 1.3512 - val_accuracy: 0.3526\n",
      "Epoch 2/200\n",
      "140/140 [==============================] - 3s 22ms/step - loss: 1.3242 - accuracy: 0.3586 - val_loss: 1.3419 - val_accuracy: 0.3483\n",
      "Epoch 3/200\n",
      "140/140 [==============================] - 3s 25ms/step - loss: 1.2942 - accuracy: 0.4065 - val_loss: 1.3371 - val_accuracy: 0.3483\n",
      "Epoch 4/200\n",
      "140/140 [==============================] - 4s 29ms/step - loss: 1.2901 - accuracy: 0.4169 - val_loss: 1.3401 - val_accuracy: 0.3483\n",
      "Epoch 5/200\n",
      "140/140 [==============================] - 4s 29ms/step - loss: 1.2568 - accuracy: 0.4264 - val_loss: 1.3397 - val_accuracy: 0.3526\n",
      "Epoch 6/200\n",
      "140/140 [==============================] - 4s 29ms/step - loss: 1.2488 - accuracy: 0.4479 - val_loss: 1.3481 - val_accuracy: 0.3226\n",
      "Epoch 7/200\n",
      "140/140 [==============================] - 4s 29ms/step - loss: 1.2175 - accuracy: 0.4624 - val_loss: 1.3626 - val_accuracy: 0.3269\n",
      "Epoch 8/200\n",
      "140/140 [==============================] - 4s 29ms/step - loss: 1.2304 - accuracy: 0.4610 - val_loss: 1.3633 - val_accuracy: 0.3291\n",
      "18/18 [==============================] - 0s 7ms/step - loss: 1.3501 - accuracy: 0.3477\n",
      "loss/acc model\n",
      "[1.3501322269439697, 0.3477477431297302]\n",
      "loss/acc persistence\n",
      "[25.701828202256213, 0.25585585585585585]\n"
     ]
    },
    {
     "data": {
      "image/png": "[encoded data removed]",
      "text/plain": [
       "<Figure size 640x480 with 1 Axes>"
      ]
     },
     "metadata": {},
     "output_type": "display_data"
    }
   ],
   "source": [
    "dic_metrics = {}\n",
    "\n",
    "for var_short, variable in zip(name_var,variables):\n",
    "    print('********************************************************************************************')\n",
    "    print(variable)\n",
    "    print('********************************************************************************************')\n",
    "    loss_weeks_model = []\n",
    "    loss_weeks_persistence = []\n",
    "    acc_weeks_model = []\n",
    "    acc_weeks_persistence = []\n",
    "\n",
    "    for week in ['week3']:\n",
    "        print(week)\n",
    "        #### ORGANIZE DATA ####\n",
    "        week_output_wr = df_wr_2[week].values.astype(int)\n",
    "        # Make Y categorical\n",
    "        serie_wr_categorical = to_categorical(week_output_wr,num_classes=4)\n",
    "        \n",
    "        week1_anoms = copy.deepcopy(dic_vars[variable])\n",
    "        \n",
    "        # # Scale by min-max\n",
    "        Min = week1_anoms[f'{var_short}_anomalies'].min(dim='time')\n",
    "        Max = week1_anoms[f'{var_short}_anomalies'].max(dim='time')\n",
    "        scaled_x = (week1_anoms[f'{var_short}_anomalies']) / (Max - Min)\n",
    "\n",
    "        indices = np.arange(len(serie_wr_categorical))\n",
    "        #Reshape X\n",
    "        scaled_x = scaled_x.data.reshape(-1, scaled_x.shape[1],scaled_x.shape[2], 1)\n",
    "\n",
    "        indices_train = np.where(df_wr_2.week2.index.year<=2001)[0]\n",
    "        indices_val = np.where((df_wr_2.week2.index.year>2001)&(df_wr_2.week2.index.year<=2010))[0]\n",
    "        indices_test = np.where(df_wr_2.week2.index.year>2010)[0]\n",
    "\n",
    "        X_test = scaled_x[indices_test]\n",
    "        y_test = serie_wr_categorical[indices_test]\n",
    "\n",
    "        X_train = scaled_x[indices_train]\n",
    "        y_train = serie_wr_categorical[indices_train]\n",
    "\n",
    "        X_val = scaled_x[indices_val]\n",
    "        y_val = serie_wr_categorical[indices_val]\n",
    "\n",
    "        wr_persistence = df_wr_2.week1.values.astype(int)[indices_test]\n",
    "        serie_wr_persistence_categorical = to_categorical(wr_persistence)\n",
    "\n",
    "        #### TRAIN ####\n",
    "\n",
    "        keras.backend.clear_session()\n",
    "        model = create_model()\n",
    "        # aaaa\n",
    "        batch_size = 16\n",
    "        epochs = 200\n",
    "\n",
    "        earlystop = EarlyStopping(monitor='val_loss', patience=5)\n",
    "        try:\n",
    "            os.mkdir(f'{path_models}{variable}')\n",
    "        except: pass\n",
    "        filepath = f'{path_models}{variable}/model_{week}_v5.h5'\n",
    "        checkpoint = ModelCheckpoint(filepath, monitor='val_loss', verbose=0, save_best_only=True, \n",
    "                                     mode='auto',save_weights_only=False)\n",
    "        model.fit(X_train, y_train, batch_size=batch_size,\\\n",
    "            epochs=epochs,verbose=1,validation_data=(X_val, y_val), callbacks=[checkpoint,earlystop])\n",
    "\n",
    "        #### EVAL ####\n",
    "\n",
    "        model.load_weights(filepath)\n",
    "        model.save(filepath)\n",
    "        metrics_model = model.evaluate(x=X_test,y=y_test)\n",
    "        acc_temp = metrics_model[1]\n",
    "        loss_temp = metrics_model[0]\n",
    "        acc_persistence = accuracy_score(y_test,serie_wr_persistence_categorical)\n",
    "        loss_persistence = log_loss(y_test,serie_wr_persistence_categorical)\n",
    "        print('loss/acc model')\n",
    "        print(metrics_model)\n",
    "        print('loss/acc persistence')\n",
    "        print([loss_persistence,acc_persistence])\n",
    "\n",
    "        loss_weeks_model.append(loss_temp)\n",
    "        loss_weeks_persistence.append(loss_persistence)\n",
    "        acc_weeks_model.append(acc_temp)\n",
    "        acc_weeks_persistence.append(acc_persistence)\n",
    "    \n",
    "    ### PLOT BARS ###\n",
    "    plt.bar(np.arange(8),acc_weeks_model,width=-0.3,align='edge',label=f'CNN - {variable.upper()}',color='k')\n",
    "    plt.bar(np.arange(8),acc_weeks_persistence,width=0.3,align='edge',label='Persistence',color='darkorange')\n",
    "    plt.legend()\n",
    "    plt.ylabel('Percentage of accurate predictions [%]\\nTesting Sample (15%)')\n",
    "    plt.xticks(np.arange(8),['Week 1','Week 2','Week 3','Week 4','Week 5','Week 6','Week 7','Week 8'])\n",
    "    plt.xlabel('Lead time')\n",
    "    path_figures = '/glade/u/home/jhayron/WeatherRegimes/Figures/Variables/'\n",
    "    # plt.savefig(f'{path_figures}{variable}_SvP_v2.png',bbox_inches='tight')\n",
    "    plt.show()\n",
    "    plt.close('all')\n",
    "    \n",
    "    ### SAVE METRICS ###\n",
    "    \n",
    "    df_metrics = pd.DataFrame(np.array([acc_weeks_model,acc_weeks_persistence,loss_weeks_model,loss_weeks_persistence]).T,\n",
    "            columns = ['acc_model','acc_persistence','loss_model','loss_persistence'])\n",
    "    dic_metrics[variable] = df_metrics\n",
    "    # aaaa"
   ]
  },
  {
   "cell_type": "code",
   "execution_count": 88,
   "id": "d6c1e1d7-a8e8-498c-bfd7-24b5034429a1",
   "metadata": {},
   "outputs": [
    {
     "data": {
      "text/plain": [
       "0.34774774774774775"
      ]
     },
     "execution_count": 88,
     "metadata": {},
     "output_type": "execute_result"
    }
   ],
   "source": [
    "accuracy_score(model.predict(X_test).argmax(axis=1),y_test.argmax(axis=1))"
   ]
  },
  {
   "cell_type": "code",
   "execution_count": 89,
   "id": "648eb56a-7777-4a25-8177-62b7d5bedf3e",
   "metadata": {},
   "outputs": [
    {
     "data": {
      "text/plain": [
       "0.3426168554506986"
      ]
     },
     "execution_count": 89,
     "metadata": {},
     "output_type": "execute_result"
    }
   ],
   "source": [
    "balanced_accuracy_score(model.predict(X_test).argmax(axis=1),y_test.argmax(axis=1))"
   ]
  },
  {
   "cell_type": "code",
   "execution_count": 90,
   "id": "c3dec6b1-9330-4269-a54e-26739f8f2e98",
   "metadata": {},
   "outputs": [
    {
     "data": {
      "text/plain": [
       "[<matplotlib.lines.Line2D at 0x2acef7ec6730>]"
      ]
     },
     "execution_count": 90,
     "metadata": {},
     "output_type": "execute_result"
    },
    {
     "data": {
      "image/png": "[encoded data removed]",
      "text/plain": [
       "<Figure size 640x480 with 1 Axes>"
      ]
     },
     "metadata": {},
     "output_type": "display_data"
    }
   ],
   "source": [
    "y_predicted_test = model.predict(X_test).argmax(axis=1)\n",
    "# plt.hist(y_predicted_test,density=True)\n",
    "hist = np.histogram(y_predicted_test,bins=4)[0]/np.sum(np.histogram(y_predicted_test,bins=4)[0])\n",
    "hist_real = np.histogram(y_test.argmax(axis=1),bins=4)[0]/np.sum(np.histogram(y_test.argmax(axis=1),bins=4)[0])\n",
    "plt.plot(hist)\n",
    "plt.plot(hist_real)"
   ]
  },
  {
   "cell_type": "code",
   "execution_count": 91,
   "id": "992f3d36-a0b8-4381-b9e2-c398bed8d45d",
   "metadata": {},
   "outputs": [
    {
     "name": "stdout",
     "output_type": "stream",
     "text": [
      "Model: \"sequential\"\n",
      "_________________________________________________________________\n",
      "Layer (type)                 Output Shape              Param #   \n",
      "=================================================================\n",
      "conv2d (Conv2D)              (None, 120, 360, 32)      320       \n",
      "_________________________________________________________________\n",
      "average_pooling2d (AveragePo (None, 40, 120, 32)       0         \n",
      "_________________________________________________________________\n",
      "dropout (Dropout)            (None, 40, 120, 32)       0         \n",
      "_________________________________________________________________\n",
      "conv2d_1 (Conv2D)            (None, 40, 120, 64)       18496     \n",
      "_________________________________________________________________\n",
      "average_pooling2d_1 (Average (None, 14, 40, 64)        0         \n",
      "_________________________________________________________________\n",
      "dropout_1 (Dropout)          (None, 14, 40, 64)        0         \n",
      "_________________________________________________________________\n",
      "flatten (Flatten)            (None, 35840)             0         \n",
      "_________________________________________________________________\n",
      "dense (Dense)                (None, 1024)              36701184  \n",
      "_________________________________________________________________\n",
      "dropout_2 (Dropout)          (None, 1024)              0         \n",
      "_________________________________________________________________\n",
      "dense_1 (Dense)              (None, 64)                65600     \n",
      "_________________________________________________________________\n",
      "dense_2 (Dense)              (None, 4)                 260       \n",
      "=================================================================\n",
      "Total params: 36,785,860\n",
      "Trainable params: 36,785,860\n",
      "Non-trainable params: 0\n",
      "_________________________________________________________________\n"
     ]
    }
   ],
   "source": [
    "model.summary()"
   ]
  },
  {
   "cell_type": "code",
   "execution_count": null,
   "id": "a085225d-dead-4b6d-aed6-db584359d371",
   "metadata": {},
   "outputs": [],
   "source": []
  }
 ],
 "metadata": {
  "kernelspec": {
   "display_name": "Python [conda env:cnn_wr]",
   "language": "python",
   "name": "conda-env-cnn_wr-py"
  },
  "language_info": {
   "codemirror_mode": {
    "name": "ipython",
    "version": 3
   },
   "file_extension": ".py",
   "mimetype": "text/x-python",
   "name": "python",
   "nbconvert_exporter": "python",
   "pygments_lexer": "ipython3",
   "version": "3.9.15"
  }
 },
 "nbformat": 4,
 "nbformat_minor": 5
}
