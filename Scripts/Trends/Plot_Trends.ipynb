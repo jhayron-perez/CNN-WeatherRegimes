{
 "cells": [
  {
   "cell_type": "code",
   "execution_count": 1,
   "id": "8f3072f3-a53a-495e-9e28-c9df9c8d1ba1",
   "metadata": {},
   "outputs": [],
   "source": [
    "import copy\n",
    "import glob\n",
    "import pickle\n",
    "import warnings\n",
    "from datetime import datetime, timedelta\n",
    "from itertools import product\n",
    "import joblib\n",
    "\n",
    "import cartopy\n",
    "import cartopy.crs as ccrs\n",
    "import cartopy.feature\n",
    "import cartopy.feature as cfeature\n",
    "import cartopy.feature as cf\n",
    "import cartopy.io.shapereader as shpreader\n",
    "import matplotlib as mpl\n",
    "import matplotlib.path as mpath\n",
    "import matplotlib.pyplot as plt\n",
    "import numpy as np\n",
    "import pandas as pd\n",
    "import shapely.geometry as sgeom\n",
    "import xarray as xr\n",
    "from scipy import stats\n",
    "from scipy.spatial.distance import cdist\n",
    "from shapely import geometry\n",
    "from sklearn import metrics\n",
    "from sklearn.cluster import KMeans\n",
    "from sklearn.decomposition import PCA\n",
    "from sklearn.linear_model import LinearRegression\n",
    "\n",
    "import sys\n",
    "# sys.path.append(\"/glade/u/home/jhayron/WeatherRegimes/Scripts/\")\n",
    "# import cluster_analysis, narm_analysis, som_analysis"
   ]
  },
  {
   "cell_type": "code",
   "execution_count": 2,
   "id": "3676781e-63af-4383-81d0-e09bd30c883e",
   "metadata": {},
   "outputs": [],
   "source": [
    "names_variables = ['z500','olr', 'sm', 'sst', 'st', 'u10']\n",
    "units = ['m2/s2','J/m2','m3/m3','K','K','m/s']"
   ]
  },
  {
   "cell_type": "code",
   "execution_count": 26,
   "id": "ce8d9fde-8928-496d-8931-5c6b23085892",
   "metadata": {},
   "outputs": [],
   "source": [
    "for iname in range(len(names_variables)):\n",
    "\n",
    "    trend = xr.open_dataset(f'/glade/work/jhayron/Weather_Regimes/ERA5/Daily_1degree/trends/{names_variables[iname]}_trend.nc')\n",
    "    \n",
    "    \n",
    "    ##########PLOT#####################\n",
    "    fig = plt.figure(figsize=(9,7))\n",
    "    ax = fig.add_subplot(111,projection=ccrs.PlateCarree(central_longitude=-90+360))\n",
    "    \n",
    "    # vmax = np.round(abs(trend[f'{names_variables[iname]}_trend']).max(),2)\n",
    "    # vmin = -np.round(abs(trend[f'{names_variables[iname]}_trend']).max(),0)\n",
    "    \n",
    "    vmax = 0.0001\n",
    "    vmin = -0.0001\n",
    "    # print(vmax,vmin)\n",
    "    cs = plt.pcolormesh(trend.lon,trend.lat,\\\n",
    "        trend[f'{names_variables[iname]}_trend'],cmap='seismic',\n",
    "        transform=ccrs.PlateCarree(),vmin=vmin,vmax=vmax)\n",
    "    ax.coastlines(resolution='110m', color='k', linewidth=0.75, zorder=10)\n",
    "    ax.margins(x=0, y=0)\n",
    "    \n",
    "    plt.xlim()\n",
    "\n",
    "    # ax.set_extent([-179, 179, 10, 90], crs=ccrs.PlateCarree())\n",
    "    if names_variables[iname]!='st':\n",
    "        plt.title(names_variables[iname].upper().replace('_','-'))\n",
    "    else:\n",
    "        plt.title(names_variables[iname].upper().replace('_','-').replace('ST','TS'))\n",
    "    if 'region' in names_variables[iname]:\n",
    "        cbar_ax = fig.add_axes([0.25, 0.19, 0.5, 0.0175])\n",
    "    else:\n",
    "        cbar_ax = fig.add_axes([0.25, 0.19, 0.5, 0.0175])\n",
    "    # ticks_1 = [-80, -40, 0, 40, 80]\n",
    "    cbar = fig.colorbar(cs, cax=cbar_ax,\n",
    "                        orientation='horizontal', extend='both')\n",
    "    cbar.ax.tick_params(labelsize=14)\n",
    "    cbar.set_label(trend.units, fontsize=14)\n",
    "    plt.savefig(f'/glade/u/home/jhayron/WeatherRegimes/Figures/MapsTrends/{names_variables[iname]}_trend.png',bbox_inches='tight')\n",
    "    plt.close('all')\n"
   ]
  },
  {
   "cell_type": "code",
   "execution_count": 9,
   "id": "961641d0-84f3-4f1b-83ea-dd610685151c",
   "metadata": {},
   "outputs": [
    {
     "data": {
      "text/html": [
       "<pre>&lt;xarray.DataArray &#x27;z500_trend&#x27; ()&gt;\n",
       "array(0.02078172)</pre>"
      ],
      "text/plain": [
       "<xarray.DataArray 'z500_trend' ()>\n",
       "array(0.02078172)"
      ]
     },
     "execution_count": 9,
     "metadata": {},
     "output_type": "execute_result"
    }
   ],
   "source": []
  },
  {
   "cell_type": "code",
   "execution_count": 5,
   "id": "11d15852-f8ca-41dc-ac3c-30461fd03c20",
   "metadata": {},
   "outputs": [
    {
     "data": {
      "text/plain": [
       "'(m2/s2)/day'"
      ]
     },
     "execution_count": 5,
     "metadata": {},
     "output_type": "execute_result"
    }
   ],
   "source": [
    "trend.units"
   ]
  }
 ],
 "metadata": {
  "kernelspec": {
   "display_name": "Notebook Gallery 2019.12",
   "language": "python",
   "name": "notebook-gallery-2019.12"
  },
  "language_info": {
   "codemirror_mode": {
    "name": "ipython",
    "version": 3
   },
   "file_extension": ".py",
   "mimetype": "text/x-python",
   "name": "python",
   "nbconvert_exporter": "python",
   "pygments_lexer": "ipython3",
   "version": "3.7.3"
  }
 },
 "nbformat": 4,
 "nbformat_minor": 5
}
