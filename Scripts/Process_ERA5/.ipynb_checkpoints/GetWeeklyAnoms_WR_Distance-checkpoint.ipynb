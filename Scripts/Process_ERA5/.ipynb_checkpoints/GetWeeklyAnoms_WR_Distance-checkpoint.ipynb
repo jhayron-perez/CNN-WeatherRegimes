{
 "cells": [
  {
   "cell_type": "code",
   "execution_count": 23,
   "id": "2205b85c-1fab-45cb-9e5f-c7f464a52f4a",
   "metadata": {},
   "outputs": [],
   "source": [
    "import copy\n",
    "import glob\n",
    "import pickle\n",
    "import warnings\n",
    "from datetime import datetime, timedelta\n",
    "from itertools import product\n",
    "import joblib\n",
    "\n",
    "import cartopy\n",
    "import cartopy.crs as ccrs\n",
    "import cartopy.feature\n",
    "import cartopy.feature as cfeature\n",
    "import cartopy.feature as cf\n",
    "import cartopy.io.shapereader as shpreader\n",
    "import matplotlib as mpl\n",
    "import matplotlib.path as mpath\n",
    "import matplotlib.pyplot as plt\n",
    "import numpy as np\n",
    "import pandas as pd\n",
    "import shapely.geometry as sgeom\n",
    "import xarray as xr\n",
    "from scipy import stats\n",
    "from scipy.spatial.distance import cdist\n",
    "from shapely import geometry\n",
    "from sklearn import metrics\n",
    "from sklearn.cluster import KMeans\n",
    "from sklearn.decomposition import PCA\n",
    "from sklearn.metrics.pairwise import euclidean_distances\n",
    "\n",
    "# import sys\n",
    "# sys.path.append(\"/glade/u/home/jhayron/WeatherRegimes/Scripts/\")\n",
    "# import cluster_analysis, narm_analysis, som_analysis"
   ]
  },
  {
   "cell_type": "markdown",
   "id": "105bd44f-9914-4803-a919-a20ce4d882bb",
   "metadata": {},
   "source": [
    "# Read data"
   ]
  },
  {
   "cell_type": "code",
   "execution_count": 2,
   "id": "73da4046-deee-46ca-bc04-6a22d035ebbd",
   "metadata": {},
   "outputs": [],
   "source": [
    "ds_era_anomalies = xr.open_dataset('/glade/work/jhayron/Weather_Regimes/ERA5/Daily_1degree/anomalies/z500_anomalies_v1959_2010_detrended.nc')\n"
   ]
  },
  {
   "cell_type": "code",
   "execution_count": 3,
   "id": "5e1d6d25-ec9b-4607-9e8d-282982bb486f",
   "metadata": {},
   "outputs": [],
   "source": [
    "df_WR = pd.read_csv('/glade/work/jhayron/Weather_Regimes/WR_Series_v3.csv',index_col=0,\\\n",
    "            parse_dates=True)"
   ]
  },
  {
   "cell_type": "code",
   "execution_count": 4,
   "id": "034d27f1-a734-46ab-84a6-2e5309141725",
   "metadata": {},
   "outputs": [],
   "source": [
    "def get_cold_indx(ds, mo_init=9, mo_end=2):\n",
    "    \"\"\"\n",
    "    Extract indices for cold season.\n",
    "    Grabbing Sept thru February init, for Oct thru March predictions.\n",
    "    \"\"\"\n",
    "    dt_array = pd.to_datetime(ds['time'])\n",
    "    return xr.where((dt_array.month>=mo_init) | (dt_array.month<=mo_end), True, False)"
   ]
  },
  {
   "cell_type": "markdown",
   "id": "1b7846b7-65a3-4574-a053-79fa1aed47a5",
   "metadata": {},
   "source": [
    "# Get mean Geopotential, weeks 1, 2, 3, 4, 5"
   ]
  },
  {
   "cell_type": "code",
   "execution_count": 5,
   "id": "4dfa09ce-d30c-4207-b508-f347382f16fc",
   "metadata": {},
   "outputs": [],
   "source": [
    "weekly_average = ds_era_anomalies.rolling(time=7,min_periods=4).mean().shift(time=-6)"
   ]
  },
  {
   "cell_type": "markdown",
   "id": "4d082b0b-e86f-4170-a24e-0835b3763c10",
   "metadata": {},
   "source": [
    "## Only Mondays and Thursdays"
   ]
  },
  {
   "cell_type": "code",
   "execution_count": 6,
   "id": "114c66ec-a935-4aef-8dcc-462f4e022773",
   "metadata": {},
   "outputs": [],
   "source": [
    "# Friday, December 31, 2021: 0 --> monday, 6 --> sunday"
   ]
  },
  {
   "cell_type": "code",
   "execution_count": 7,
   "id": "ddb295a2-4920-4b0c-87c6-7dce3da306db",
   "metadata": {},
   "outputs": [],
   "source": [
    "dow = pd.to_datetime(weekly_average.time).day_of_week"
   ]
  },
  {
   "cell_type": "code",
   "execution_count": 8,
   "id": "ff055abe-59f1-4b11-82c0-27cd9ee20840",
   "metadata": {},
   "outputs": [],
   "source": [
    "where_mon_thu = np.where((dow == 0)|(dow==3))[0][:-18]"
   ]
  },
  {
   "cell_type": "code",
   "execution_count": 9,
   "id": "c9d8e747-1f7c-4f67-927d-38d745bf85df",
   "metadata": {},
   "outputs": [],
   "source": [
    "week1_anoms = weekly_average.isel(time=where_mon_thu)\n",
    "week2_anoms = weekly_average.isel(time=where_mon_thu+7)\n",
    "week3_anoms = weekly_average.isel(time=where_mon_thu+7*2)\n",
    "week4_anoms = weekly_average.isel(time=where_mon_thu+7*3)\n",
    "week5_anoms = weekly_average.isel(time=where_mon_thu+7*4)\n",
    "week6_anoms = weekly_average.isel(time=where_mon_thu+7*5)\n",
    "week7_anoms = weekly_average.isel(time=where_mon_thu+7*6)\n",
    "week8_anoms = weekly_average.isel(time=where_mon_thu+7*7)\n",
    "week9_anoms = weekly_average.isel(time=where_mon_thu+7*8)"
   ]
  },
  {
   "cell_type": "code",
   "execution_count": 10,
   "id": "4eb7b22b-fa57-4524-a6a7-46222d023fae",
   "metadata": {},
   "outputs": [],
   "source": [
    "week2_anoms['time'] = week1_anoms.time\n",
    "week3_anoms['time'] = week1_anoms.time\n",
    "week4_anoms['time'] = week1_anoms.time\n",
    "week5_anoms['time'] = week1_anoms.time\n",
    "week6_anoms['time'] = week1_anoms.time\n",
    "week7_anoms['time'] = week1_anoms.time\n",
    "week8_anoms['time'] = week1_anoms.time\n",
    "week6_anoms['time'] = week1_anoms.time\n",
    "week7_anoms['time'] = week1_anoms.time\n",
    "week8_anoms['time'] = week1_anoms.time\n",
    "week9_anoms['time'] = week1_anoms.time\n"
   ]
  },
  {
   "cell_type": "markdown",
   "id": "7d9175dd-4978-4ee2-8782-72fc2b11126c",
   "metadata": {},
   "source": [
    "# Get most frequent WR of each week"
   ]
  },
  {
   "cell_type": "code",
   "execution_count": 11,
   "id": "5e3a227c-3862-4312-81e1-467635105383",
   "metadata": {},
   "outputs": [],
   "source": [
    "from scipy.stats import mode"
   ]
  },
  {
   "cell_type": "code",
   "execution_count": 12,
   "id": "42b373e7-257d-4f5d-ade6-01c1c8fa3387",
   "metadata": {},
   "outputs": [],
   "source": [
    "df_WR = df_WR.resample('D').mean()"
   ]
  },
  {
   "cell_type": "code",
   "execution_count": 13,
   "id": "b77b1453-0124-403a-8d76-6904beef76f7",
   "metadata": {},
   "outputs": [],
   "source": [
    "df_WR_week_mode = df_WR.rolling(7,min_periods=4).apply(lambda x: mode(x,keepdims=True)[0]).shift(-6)"
   ]
  },
  {
   "cell_type": "code",
   "execution_count": 14,
   "id": "0a591d56-8ac3-45f5-9bc6-b608ce7c82c8",
   "metadata": {},
   "outputs": [],
   "source": [
    "week1_wr = df_WR_week_mode.iloc[where_mon_thu]\n",
    "week2_wr = df_WR_week_mode.iloc[where_mon_thu+7]\n",
    "week3_wr = df_WR_week_mode.iloc[where_mon_thu+7*2]\n",
    "week4_wr = df_WR_week_mode.iloc[where_mon_thu+7*3]\n",
    "week5_wr = df_WR_week_mode.iloc[where_mon_thu+7*4]\n",
    "week6_wr = df_WR_week_mode.iloc[where_mon_thu+7*5]\n",
    "week7_wr = df_WR_week_mode.iloc[where_mon_thu+7*6]\n",
    "week8_wr = df_WR_week_mode.iloc[where_mon_thu+7*7]\n",
    "week9_wr = df_WR_week_mode.iloc[where_mon_thu+7*8]"
   ]
  },
  {
   "cell_type": "code",
   "execution_count": 15,
   "id": "8b1249a1-1534-43ae-bad5-48cf2899993f",
   "metadata": {},
   "outputs": [],
   "source": [
    "week2_wr.index = week1_wr.index\n",
    "week3_wr.index = week1_wr.index\n",
    "week4_wr.index = week1_wr.index\n",
    "week5_wr.index = week1_wr.index\n",
    "week6_wr.index = week1_wr.index\n",
    "week7_wr.index = week1_wr.index\n",
    "week8_wr.index = week1_wr.index\n",
    "week9_wr.index = week1_wr.index"
   ]
  },
  {
   "cell_type": "markdown",
   "id": "63696639-b0a7-48be-8118-60f828f9ec3e",
   "metadata": {},
   "source": [
    "# Only cold months"
   ]
  },
  {
   "cell_type": "code",
   "execution_count": 16,
   "id": "e4e99b9d-90de-4de3-916d-89c15039fb36",
   "metadata": {},
   "outputs": [],
   "source": [
    "cold_indx = get_cold_indx(week1_anoms,10,3)"
   ]
  },
  {
   "cell_type": "code",
   "execution_count": 17,
   "id": "4f94b971-cfea-427c-95f3-9de30398b4e1",
   "metadata": {},
   "outputs": [],
   "source": [
    "week1_anoms = week1_anoms.isel(time=cold_indx)\n",
    "week2_anoms = week2_anoms.isel(time=cold_indx)\n",
    "week3_anoms = week3_anoms.isel(time=cold_indx)\n",
    "week4_anoms = week4_anoms.isel(time=cold_indx)\n",
    "week5_anoms = week5_anoms.isel(time=cold_indx)\n",
    "week6_anoms = week6_anoms.isel(time=cold_indx)\n",
    "week7_anoms = week7_anoms.isel(time=cold_indx)\n",
    "week8_anoms = week8_anoms.isel(time=cold_indx)\n",
    "week9_anoms = week9_anoms.isel(time=cold_indx)"
   ]
  },
  {
   "cell_type": "code",
   "execution_count": 18,
   "id": "95955a59-8a10-4155-9674-f09c36600234",
   "metadata": {},
   "outputs": [],
   "source": [
    "week1_wr = week1_wr.iloc[cold_indx]\n",
    "week2_wr = week2_wr.iloc[cold_indx]\n",
    "week3_wr = week3_wr.iloc[cold_indx]\n",
    "week4_wr = week4_wr.iloc[cold_indx]\n",
    "week5_wr = week5_wr.iloc[cold_indx]\n",
    "week6_wr = week6_wr.iloc[cold_indx]\n",
    "week7_wr = week7_wr.iloc[cold_indx]\n",
    "week8_wr = week8_wr.iloc[cold_indx]\n",
    "week9_wr = week9_wr.iloc[cold_indx]"
   ]
  },
  {
   "cell_type": "markdown",
   "id": "aba4a9c9-7428-475a-9494-5a88ad0e04a1",
   "metadata": {},
   "source": [
    "# Save files"
   ]
  },
  {
   "cell_type": "code",
   "execution_count": 19,
   "id": "b202b294-99b0-4761-9ee3-d89e2a8afb2d",
   "metadata": {},
   "outputs": [],
   "source": [
    "week1_anoms.to_netcdf('/glade/work/jhayron/Weather_Regimes/weekly_anomalies/week1_z500_anoms_v3.nc')\n",
    "week2_anoms.to_netcdf('/glade/work/jhayron/Weather_Regimes/weekly_anomalies/week2_z500_anoms_v3.nc')\n",
    "week3_anoms.to_netcdf('/glade/work/jhayron/Weather_Regimes/weekly_anomalies/week3_z500_anoms_v3.nc')\n",
    "week4_anoms.to_netcdf('/glade/work/jhayron/Weather_Regimes/weekly_anomalies/week4_z500_anoms_v3.nc')\n",
    "week5_anoms.to_netcdf('/glade/work/jhayron/Weather_Regimes/weekly_anomalies/week5_z500_anoms_v3.nc')\n",
    "week6_anoms.to_netcdf('/glade/work/jhayron/Weather_Regimes/weekly_anomalies/week6_z500_anoms_v3.nc')\n",
    "week7_anoms.to_netcdf('/glade/work/jhayron/Weather_Regimes/weekly_anomalies/week7_z500_anoms_v3.nc')\n",
    "week8_anoms.to_netcdf('/glade/work/jhayron/Weather_Regimes/weekly_anomalies/week8_z500_anoms_v3.nc')\n",
    "week9_anoms.to_netcdf('/glade/work/jhayron/Weather_Regimes/weekly_anomalies/week9_z500_anoms_v3.nc')"
   ]
  },
  {
   "cell_type": "code",
   "execution_count": 20,
   "id": "a5a4ffa0-ae7e-4c6f-ba4e-294bf26cd4b1",
   "metadata": {},
   "outputs": [],
   "source": [
    "week1_wr.to_csv('/glade/work/jhayron/Weather_Regimes/weekly_wr/week1_wr_v3.csv')\n",
    "week2_wr.to_csv('/glade/work/jhayron/Weather_Regimes/weekly_wr/week2_wr_v3.csv')\n",
    "week3_wr.to_csv('/glade/work/jhayron/Weather_Regimes/weekly_wr/week3_wr_v3.csv')\n",
    "week4_wr.to_csv('/glade/work/jhayron/Weather_Regimes/weekly_wr/week4_wr_v3.csv')\n",
    "week5_wr.to_csv('/glade/work/jhayron/Weather_Regimes/weekly_wr/week5_wr_v3.csv')\n",
    "week6_wr.to_csv('/glade/work/jhayron/Weather_Regimes/weekly_wr/week6_wr_v3.csv')\n",
    "week7_wr.to_csv('/glade/work/jhayron/Weather_Regimes/weekly_wr/week7_wr_v3.csv')\n",
    "week8_wr.to_csv('/glade/work/jhayron/Weather_Regimes/weekly_wr/week8_wr_v3.csv')\n",
    "week9_wr.to_csv('/glade/work/jhayron/Weather_Regimes/weekly_wr/week9_wr_v3.csv')"
   ]
  },
  {
   "cell_type": "markdown",
   "id": "c02ac9da-b2a0-46bb-9fff-d65bb508ce6e",
   "metadata": {},
   "source": [
    "# Compute weather patterns with the mean of the week"
   ]
  },
  {
   "cell_type": "code",
   "execution_count": 39,
   "id": "5bf91ac4-1a03-46c6-bc02-e3b14361e948",
   "metadata": {},
   "outputs": [],
   "source": [
    "df_wr = pd.DataFrame(index = pd.to_datetime(week1_anoms.time))\n",
    "distance_wr = pd.DataFrame(index = pd.to_datetime(week1_anoms.time))\n",
    "for week, ds in zip(['week1','week2','week3','week4','week5','week6','week7','week8','week9'],\\\n",
    "    [week1_anoms,week2_anoms,week3_anoms,week4_anoms,week5_anoms,week6_anoms,week7_anoms,week8_anoms,week9_anoms]):\n",
    "    # region for clustering\n",
    "    lat0=10; lat1=70; lon0=210; lon1=320\n",
    "    ds_era5_train = ds.where((ds.lat>=lat0)&(ds.lat<=lat1)&\\\n",
    "                       (ds.lon>=lon0)&(ds.lon<=lon1),drop=True)\n",
    "    ds_era5_train = ds_era5_train.stack(flat=('lat','lon')).transpose('time','flat').z500_anomalies\n",
    "    data_era5_train = ds_era5_train.data\n",
    "\n",
    "    import joblib\n",
    "    pca_obj = joblib.load(r'/glade/work/jhayron/Weather_Regimes/models/PCA_ERA5_v4.mdl')\n",
    "    k_means = joblib.load(r'/glade/work/jhayron/Weather_Regimes/models/KMeans_ERA5_v4.pkl')\n",
    "    data_era5_train = pca_obj.transform(data_era5_train)\n",
    "    \n",
    "    euc_res=euclidean_distances(k_means.cluster_centers_, data_era5_train)\n",
    "    df_wr[week] = k_means.predict(data_era5_train)\n",
    "    distance_wr[week] = euc_res.min(axis=0)"
   ]
  },
  {
   "cell_type": "code",
   "execution_count": 22,
   "id": "0097623b-4fbc-40bf-a876-ae197e9f4d73",
   "metadata": {},
   "outputs": [],
   "source": [
    "df_wr.to_csv('/glade/work/jhayron/Weather_Regimes/weekly_wr/weekly_wr_mean_geop_v3.csv')"
   ]
  },
  {
   "cell_type": "code",
   "execution_count": 40,
   "id": "1b5c4f66-617b-47f1-a938-5164b971affd",
   "metadata": {},
   "outputs": [],
   "source": [
    "distance_wr.to_csv('/glade/work/jhayron/Weather_Regimes/weekly_wr/weekly_distance_mean_geop_v3.csv')"
   ]
  },
  {
   "cell_type": "code",
   "execution_count": null,
   "id": "7bd9c028-0d78-484a-b753-f884d425ac3c",
   "metadata": {},
   "outputs": [],
   "source": []
  },
  {
   "cell_type": "code",
   "execution_count": 38,
   "id": "ed31b2be-bb8f-408b-ae24-d1d9e32bc13d",
   "metadata": {},
   "outputs": [
    {
     "data": {
      "text/plain": [
       "array([3.44966534, 4.48207571, 4.74829823, ..., 3.65037026, 2.77871185,\n",
       "       2.47167445])"
      ]
     },
     "execution_count": 38,
     "metadata": {},
     "output_type": "execute_result"
    }
   ],
   "source": []
  },
  {
   "cell_type": "code",
   "execution_count": 35,
   "id": "ab75851b-7fa2-4479-9392-8745886160e9",
   "metadata": {},
   "outputs": [
    {
     "data": {
      "text/plain": [
       "array([1, 1, 1, ..., 3, 1, 2], dtype=int32)"
      ]
     },
     "execution_count": 35,
     "metadata": {},
     "output_type": "execute_result"
    }
   ],
   "source": [
    "k_means.predict(data_era5_train)"
   ]
  }
 ],
 "metadata": {
  "kernelspec": {
   "display_name": "Python [conda env:weather_regimes]",
   "language": "python",
   "name": "conda-env-weather_regimes-py"
  },
  "language_info": {
   "codemirror_mode": {
    "name": "ipython",
    "version": 3
   },
   "file_extension": ".py",
   "mimetype": "text/x-python",
   "name": "python",
   "nbconvert_exporter": "python",
   "pygments_lexer": "ipython3",
   "version": "3.9.13"
  }
 },
 "nbformat": 4,
 "nbformat_minor": 5
}
