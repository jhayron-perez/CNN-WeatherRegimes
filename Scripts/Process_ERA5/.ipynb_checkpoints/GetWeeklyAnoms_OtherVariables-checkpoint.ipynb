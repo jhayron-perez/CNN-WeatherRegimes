{
 "cells": [
  {
   "cell_type": "code",
   "execution_count": 1,
   "id": "2205b85c-1fab-45cb-9e5f-c7f464a52f4a",
   "metadata": {},
   "outputs": [],
   "source": [
    "import copy\n",
    "import glob\n",
    "import pickle\n",
    "import warnings\n",
    "from datetime import datetime, timedelta\n",
    "from itertools import product\n",
    "import joblib\n",
    "\n",
    "import cartopy\n",
    "import cartopy.crs as ccrs\n",
    "import cartopy.feature\n",
    "import cartopy.feature as cfeature\n",
    "import cartopy.feature as cf\n",
    "import cartopy.io.shapereader as shpreader\n",
    "import matplotlib as mpl\n",
    "import matplotlib.path as mpath\n",
    "import matplotlib.pyplot as plt\n",
    "import numpy as np\n",
    "import pandas as pd\n",
    "import shapely.geometry as sgeom\n",
    "import xarray as xr\n",
    "from scipy import stats\n",
    "from scipy.spatial.distance import cdist\n",
    "from shapely import geometry\n",
    "from sklearn import metrics\n",
    "from sklearn.cluster import KMeans\n",
    "from sklearn.decomposition import PCA\n",
    "\n",
    "# import sys\n",
    "# sys.path.append(\"/glade/u/home/jhayron/WeatherRegimes/Scripts/\")\n",
    "# import cluster_analysis, narm_analysis, som_analysis"
   ]
  },
  {
   "cell_type": "code",
   "execution_count": 2,
   "id": "5110c8af-51cb-43f1-8eb6-32ac1814cf35",
   "metadata": {},
   "outputs": [],
   "source": [
    "def get_cold_indx(ds, mo_init=9, mo_end=2):\n",
    "    \"\"\"\n",
    "    Extract indices for cold season.\n",
    "    Grabbing Sept thru February init, for Oct thru March predictions.\n",
    "    \"\"\"\n",
    "    dt_array = pd.to_datetime(ds['time'])\n",
    "    return xr.where((dt_array.month>=mo_init) | (dt_array.month<=mo_end), True, False)"
   ]
  },
  {
   "cell_type": "markdown",
   "id": "105bd44f-9914-4803-a919-a20ce4d882bb",
   "metadata": {},
   "source": [
    "# Read data"
   ]
  },
  {
   "cell_type": "code",
   "execution_count": 3,
   "id": "f2568982-2c8a-48ab-a722-b3dbe0448299",
   "metadata": {},
   "outputs": [],
   "source": [
    "names_variables = ['z500','olr', 'sm_region', 'sst', 'st_region', \n",
    "                   'u10','sst_st','sst_st_region','sst_sm_region']"
   ]
  },
  {
   "cell_type": "code",
   "execution_count": 5,
   "id": "da84a415-55e6-473d-b716-4df0ebb9c36e",
   "metadata": {},
   "outputs": [
    {
     "name": "stdout",
     "output_type": "stream",
     "text": [
      "z500\n",
      "olr\n",
      "sm_region\n",
      "sst\n",
      "st_region\n",
      "u10\n",
      "sst_st\n",
      "sst_st_region\n",
      "sst_sm_region\n"
     ]
    }
   ],
   "source": [
    "for name in names_variables:\n",
    "    print(name)\n",
    "    path_anomalies = '/glade/work/jhayron/Weather_Regimes/ERA5/Daily_1degree/anomalies/'\n",
    "    if 'region' in name:\n",
    "        ds_era_anomalies = xr.open_dataset(f'{path_anomalies}{name[:-7]}_anomalies_v1959_2010_detrended.nc')\n",
    "    else:\n",
    "        ds_era_anomalies = xr.open_dataset(f'{path_anomalies}{name}_anomalies_v1959_2010_detrended.nc')\n",
    "    ds_era_anomalies = ds_era_anomalies.rolling(time=7,min_periods=4).mean().shift(time=-6)\n",
    "    dow = pd.to_datetime(ds_era_anomalies.time).day_of_week\n",
    "    # Select Mondays and Thursdays\n",
    "    where_mon_thu = np.where((dow == 0)|(dow==3))[0][:-12]\n",
    "    week1_anoms = ds_era_anomalies.isel(time=where_mon_thu)\n",
    "    # Only cold months\n",
    "    cold_indx = get_cold_indx(week1_anoms,10,3)\n",
    "    week1_anoms = week1_anoms.isel(time=cold_indx)\n",
    "    # Replace nans with zeros depending on the variable\n",
    "    if name == 'sst':\n",
    "        vals_temp = copy.deepcopy(week1_anoms['sst_anomalies'].values)\n",
    "        where_land = np.load(f'{path_anomalies}where_land.npy')\n",
    "        where_ocean = np.load(f'{path_anomalies}where_ocean.npy')\n",
    "        for i in range(len(vals_temp)):\n",
    "            vals_temp[i,where_land[0],where_land[1]] = 0\n",
    "        week1_anoms = week1_anoms.assign(sst_anomalies = (week1_anoms.sst_anomalies.dims,vals_temp))\n",
    "    \n",
    "    if name == 'st_region':\n",
    "        vals_temp = copy.deepcopy(week1_anoms[f'{name[:-7]}_anomalies'].values)\n",
    "        where_land = np.load(f'{path_anomalies}where_land.npy')\n",
    "        where_ocean = np.load(f'{path_anomalies}where_ocean.npy')\n",
    "        for i in range(len(vals_temp)):\n",
    "            vals_temp[i,where_ocean[0],where_ocean[1]] = 0\n",
    "        week1_anoms = week1_anoms.assign(st_anomalies = (week1_anoms.st_anomalies.dims,vals_temp))\n",
    "        \n",
    "    if name == 'sm_region':\n",
    "        vals_temp = copy.deepcopy(week1_anoms[f'{name[:-7]}_anomalies'].values)\n",
    "        where_land = np.load(f'{path_anomalies}where_land.npy')\n",
    "        where_ocean = np.load(f'{path_anomalies}where_ocean.npy')\n",
    "        for i in range(len(vals_temp)):\n",
    "            vals_temp[i,where_ocean[0],where_ocean[1]] = 0\n",
    "        week1_anoms = week1_anoms.assign(sm_anomalies = (week1_anoms.sm_anomalies.dims,vals_temp))\n",
    "        \n",
    "    # Cut region depending on variable\n",
    "    if 'region' in name:\n",
    "        # region for clustering\n",
    "        lat0=10; lat1=70; lon0=210; lon1=320\n",
    "        week1_anoms = week1_anoms.where((week1_anoms.lon<=lon1)&(week1_anoms.lon>=lon0)\\\n",
    "                                        &(week1_anoms.lat<=lat1)&(week1_anoms.lat>=lat0),drop=True)\n",
    "    else:\n",
    "        week1_anoms = week1_anoms.where(week1_anoms.lat>-30,drop=True)\n",
    "        \n",
    "    week1_anoms.to_netcdf(f'/glade/work/jhayron/Weather_Regimes/weekly_anomalies/week1_{name}_anoms_v3.nc')\n",
    "    \n",
    "    del(week1_anoms)\n",
    "    del(ds_era_anomalies)\n",
    "\n",
    "    import gc\n",
    "    gc.collect()"
   ]
  },
  {
   "cell_type": "code",
   "execution_count": null,
   "id": "96e2ea30-ef0f-44b4-b553-f617f484a12e",
   "metadata": {},
   "outputs": [],
   "source": []
  }
 ],
 "metadata": {
  "kernelspec": {
   "display_name": "Python [conda env:weather_regimes]",
   "language": "python",
   "name": "conda-env-weather_regimes-py"
  },
  "language_info": {
   "codemirror_mode": {
    "name": "ipython",
    "version": 3
   },
   "file_extension": ".py",
   "mimetype": "text/x-python",
   "name": "python",
   "nbconvert_exporter": "python",
   "pygments_lexer": "ipython3",
   "version": "3.9.13"
  }
 },
 "nbformat": 4,
 "nbformat_minor": 5
}
