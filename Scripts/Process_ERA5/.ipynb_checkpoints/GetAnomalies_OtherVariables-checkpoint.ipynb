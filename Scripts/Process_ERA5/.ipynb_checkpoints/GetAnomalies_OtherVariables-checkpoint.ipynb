{
 "cells": [
  {
   "cell_type": "code",
   "execution_count": 1,
   "id": "3855efd3-13e6-4b70-bf98-3da8083cab3e",
   "metadata": {},
   "outputs": [],
   "source": [
    "import copy\n",
    "import glob\n",
    "import pickle\n",
    "import warnings\n",
    "from datetime import datetime, timedelta\n",
    "from itertools import product\n",
    "import joblib\n",
    "\n",
    "import cartopy\n",
    "import cartopy.crs as ccrs\n",
    "import cartopy.feature\n",
    "import cartopy.feature as cfeature\n",
    "import cartopy.feature as cf\n",
    "import cartopy.io.shapereader as shpreader\n",
    "import matplotlib as mpl\n",
    "import matplotlib.path as mpath\n",
    "import matplotlib.pyplot as plt\n",
    "import numpy as np\n",
    "import pandas as pd\n",
    "import shapely.geometry as sgeom\n",
    "import xarray as xr\n",
    "from scipy import stats\n",
    "from scipy.spatial.distance import cdist\n",
    "from shapely import geometry\n",
    "from sklearn import metrics\n",
    "from sklearn.cluster import KMeans\n",
    "from sklearn.decomposition import PCA\n",
    "\n",
    "import sys\n",
    "# sys.path.append(\"/glade/u/home/jhayron/WeatherRegimes/Scripts/\")\n",
    "# import cluster_analysis, narm_analysis, som_analysis"
   ]
  },
  {
   "cell_type": "code",
   "execution_count": 2,
   "id": "d9333772-8a13-4970-992d-f6bb614f6e88",
   "metadata": {},
   "outputs": [],
   "source": [
    "## The goal of this code is to get daily anomalies of the input variables, including some combination of them\n",
    "\n",
    "# SST - alone\n",
    "# ST - alone\n",
    "# SM - alone\n",
    "# SM + SST: limited region\n",
    "# ST + SST: full region\n",
    "# ST + SST: limited region\n",
    "# OLR (olr is really top thermal longwave radiation, less negative = positive anomalies = more convection)\n",
    "# U10\n"
   ]
  },
  {
   "cell_type": "markdown",
   "id": "b204b00f-6eb6-4c5c-8c09-1185807574f9",
   "metadata": {
    "tags": []
   },
   "source": [
    "# Initially do the anom process for each variable individually"
   ]
  },
  {
   "cell_type": "code",
   "execution_count": 5,
   "id": "04437b1e-2068-417d-94fc-bec5a63466e1",
   "metadata": {},
   "outputs": [],
   "source": [
    "names_variables = ['olr', 'sm', 'sst', 'st', 'u10']\n",
    "units = ['J/m2','m3/m3','K','K','m/s']"
   ]
  },
  {
   "cell_type": "code",
   "execution_count": 6,
   "id": "dd9bf2ab-8d05-4637-938f-c705daf03090",
   "metadata": {},
   "outputs": [
    {
     "name": "stdout",
     "output_type": "stream",
     "text": [
      "olr\n",
      "sm\n",
      "sst\n",
      "st\n",
      "u10\n"
     ]
    }
   ],
   "source": [
    "for iname in range(len(names_variables)):\n",
    "    print(names_variables[iname])\n",
    "    dataset_era = xr.open_dataset(f'/glade/work/jhayron/Weather_Regimes/ERA5/Daily_1degree/netcdf_final/{names_variables[iname]}.nc')\n",
    "    #daily climatology\n",
    "    dataset_era = dataset_era.isel(time = pd.to_datetime(dataset_era.time).year<=2010)\n",
    "    dataset_era = dataset_era.isel(time = ~((pd.to_datetime(dataset_era.time).day == 29)&((pd.to_datetime(dataset_era.time).month == 2))))\n",
    "    doy = pd.to_datetime(dataset_era.time).day_of_year\n",
    "    climatology = []\n",
    "    for i in range(1,366):\n",
    "        climatology.append(dataset_era.isel(time = doy == i)[names_variables[iname]].mean('time'))\n",
    "    climatology = xr.Dataset({\n",
    "                 f'{names_variables[iname]}_climatology': (['day_of_year','lat','lon'], np.array(climatology)),\n",
    "                },\n",
    "                 coords =\n",
    "                {'day_of_year': (['day_of_year'], np.arange(1,366)),\n",
    "                 'lat' : (['lat'], dataset_era.lat.values),\n",
    "                 'lon' : (['lon'], dataset_era.lon.values)\n",
    "                },\n",
    "                attrs = \n",
    "                {'File Author' : 'Jhayron S. Pérez-Carrasquilla','units':units[iname]})\n",
    "    climatology.to_netcdf(f'/glade/work/jhayron/Weather_Regimes/ERA5/Daily_1degree/climatologies/{names_variables[iname]}_climatology_1959_2010.nc')\n",
    "    smooth_climatology = xr.concat([climatology[f'{names_variables[iname]}_climatology'], climatology[f'{names_variables[iname]}_climatology'],climatology[f'{names_variables[iname]}_climatology']], dim='day_of_year')\n",
    "    smooth_climatology = smooth_climatology.rolling(day_of_year=31, min_periods=1, center=True).mean(skipna=True).rolling(\n",
    "                                      day_of_year=31, min_periods=1, center=True).mean(skipna=True)\n",
    "    smooth_climatology = smooth_climatology.isel(day_of_year=slice(365,365 * 2))\n",
    "    smooth_climatology = smooth_climatology.transpose('day_of_year','lat','lon')\n",
    "    \n",
    "    ### compute anomalies\n",
    "    \n",
    "    dataset_era = xr.open_dataset(f'/glade/work/jhayron/Weather_Regimes/ERA5/Daily_1degree/netcdf_final/{names_variables[iname]}.nc')\n",
    "    anomalies = copy.deepcopy(dataset_era)\n",
    "    \n",
    "    for day in range(1,367):\n",
    "        # print(day) \n",
    "        if day == 366:\n",
    "            anomalies[names_variables[iname]][{'time':(pd.to_datetime(dataset_era.time).day_of_year == day)}] = \\\n",
    "                (dataset_era[names_variables[iname]].isel(time = (pd.to_datetime(dataset_era.time).day_of_year == day)) \\\n",
    "                - smooth_climatology.sel(day_of_year = day-1))\n",
    "        else:\n",
    "            anomalies[names_variables[iname]][{'time':(pd.to_datetime(dataset_era.time).day_of_year == day)}] = \\\n",
    "                (dataset_era[names_variables[iname]].isel(time = (pd.to_datetime(dataset_era.time).day_of_year == day)) \\\n",
    "                - smooth_climatology.sel(day_of_year = day))\n",
    "    anomalies = anomalies.rename({names_variables[iname]:f'{names_variables[iname]}_anomalies'})\n",
    "    anomalies.to_netcdf(f'/glade/work/jhayron/Weather_Regimes/ERA5/Daily_1degree/anomalies/{names_variables[iname]}_anomalies_v1959_2010.nc')\n",
    "    \n",
    "    "
   ]
  },
  {
   "cell_type": "markdown",
   "id": "13866b5c-34d7-4b1c-94b3-b1d5bffb75b4",
   "metadata": {},
   "source": [
    "# Create combined datasets"
   ]
  },
  {
   "cell_type": "markdown",
   "id": "53429f18-6114-44de-9084-6775476cdedc",
   "metadata": {},
   "source": [
    "## SST (ocean) + ST (land)"
   ]
  },
  {
   "cell_type": "code",
   "execution_count": 3,
   "id": "fa51b141-8b0c-48b0-90ab-8270e167829a",
   "metadata": {},
   "outputs": [],
   "source": [
    "path_anomalies = '/glade/work/jhayron/Weather_Regimes/ERA5/Daily_1degree/anomalies/'"
   ]
  },
  {
   "cell_type": "code",
   "execution_count": 4,
   "id": "3922b9de-57c8-423e-8257-6effe90c4c7b",
   "metadata": {},
   "outputs": [],
   "source": [
    "sst_anoms = xr.open_dataset(f'{path_anomalies}sst_anomalies_v1959_2010.nc')\n",
    "st_anoms = xr.open_dataset(f'{path_anomalies}st_anomalies_v1959_2010.nc')"
   ]
  },
  {
   "cell_type": "code",
   "execution_count": 5,
   "id": "a22e10fe-dcdf-4edf-8c94-9e99f1a1ce9d",
   "metadata": {},
   "outputs": [],
   "source": [
    "where_land = np.where(np.isfinite(sst_anoms.isel(time=0).sst_anomalies)==False)\n",
    "where_ocean = np.where(np.isfinite(sst_anoms.isel(time=0).sst_anomalies)==True)"
   ]
  },
  {
   "cell_type": "code",
   "execution_count": 6,
   "id": "d5e7c407-a8d2-4669-8350-5682e85bf6b2",
   "metadata": {},
   "outputs": [],
   "source": [
    "np.save(f'{path_anomalies}where_land',where_land)\n",
    "np.save(f'{path_anomalies}where_ocean',where_ocean)"
   ]
  },
  {
   "cell_type": "code",
   "execution_count": 7,
   "id": "075cc67d-56b5-451c-979e-4f9ca18acacf",
   "metadata": {},
   "outputs": [],
   "source": [
    "array_sst = copy.deepcopy(sst_anoms.sst_anomalies.values)\n",
    "array_st = copy.deepcopy(st_anoms.st_anomalies.values)"
   ]
  },
  {
   "cell_type": "code",
   "execution_count": 8,
   "id": "d866e605-9c21-434c-b4b0-597a30550518",
   "metadata": {},
   "outputs": [],
   "source": [
    "for i in range(len(array_sst)):\n",
    "    array_sst[i,where_land[0],where_land[1]] = array_st[i,where_land[0],where_land[1]]"
   ]
  },
  {
   "cell_type": "code",
   "execution_count": 9,
   "id": "f9e9424d-4b95-4b44-b735-e559d0075c48",
   "metadata": {},
   "outputs": [],
   "source": [
    "sst_st_anoms = copy.deepcopy(sst_anoms)\n",
    "sst_st_anoms = sst_st_anoms.assign(sst_anomalies = (sst_st_anoms.sst_anomalies.dims,array_sst))"
   ]
  },
  {
   "cell_type": "code",
   "execution_count": 13,
   "id": "14d95ad9-863e-4c99-95d8-7ce56cc6d7c3",
   "metadata": {},
   "outputs": [],
   "source": [
    "sst_st_anoms.to_netcdf(f'{path_anomalies}sst_st_anomalies_v1959_2010.nc')"
   ]
  },
  {
   "cell_type": "markdown",
   "id": "12c06fe1-f7bc-4e83-997f-707818106973",
   "metadata": {},
   "source": [
    "## SST (ocean) + SM (land)"
   ]
  },
  {
   "cell_type": "code",
   "execution_count": 14,
   "id": "a3a0f799-641e-46bb-911e-a7ac268e6b17",
   "metadata": {},
   "outputs": [],
   "source": [
    "path_anomalies = '/glade/work/jhayron/Weather_Regimes/ERA5/Daily_1degree/anomalies/'"
   ]
  },
  {
   "cell_type": "code",
   "execution_count": 15,
   "id": "274dc763-c321-4f38-9fdc-91b3dd930ef4",
   "metadata": {},
   "outputs": [],
   "source": [
    "sm_anoms = xr.open_dataset(f'{path_anomalies}sm_anomalies_v1959_2010.nc')"
   ]
  },
  {
   "cell_type": "code",
   "execution_count": 16,
   "id": "e9a160ca-c75d-4c7e-be21-973485dda63d",
   "metadata": {},
   "outputs": [],
   "source": [
    "array_sst = copy.deepcopy(sst_anoms.sst_anomalies.values)\n",
    "array_sm = copy.deepcopy(sm_anoms.sm_anomalies.values)"
   ]
  },
  {
   "cell_type": "code",
   "execution_count": 19,
   "id": "bc3165b8-4df1-472f-9f40-386e15f785fe",
   "metadata": {},
   "outputs": [],
   "source": [
    "for i in range(len(array_sst)):\n",
    "    array_sst[i,where_land[0],where_land[1]] = array_sm[i,where_land[0],where_land[1]]"
   ]
  },
  {
   "cell_type": "code",
   "execution_count": 21,
   "id": "c8b5854d-4275-41b0-b29a-471e6486dcfc",
   "metadata": {},
   "outputs": [],
   "source": [
    "sst_sm_anoms = copy.deepcopy(sm_anoms)\n",
    "sst_sm_anoms = sst_sm_anoms.assign(sm_anomalies = (sst_sm_anoms.sm_anomalies.dims,array_sst))"
   ]
  },
  {
   "cell_type": "code",
   "execution_count": 26,
   "id": "a3310dbf-e098-4ba9-a1b9-9ce37f7e9f12",
   "metadata": {},
   "outputs": [],
   "source": [
    "sst_sm_anoms.to_netcdf(f'{path_anomalies}sst_sm_anomalies_v1959_2010.nc')"
   ]
  }
 ],
 "metadata": {
  "kernelspec": {
   "display_name": "Python [conda env:weather_regimes]",
   "language": "python",
   "name": "conda-env-weather_regimes-py"
  },
  "language_info": {
   "codemirror_mode": {
    "name": "ipython",
    "version": 3
   },
   "file_extension": ".py",
   "mimetype": "text/x-python",
   "name": "python",
   "nbconvert_exporter": "python",
   "pygments_lexer": "ipython3",
   "version": "3.9.13"
  }
 },
 "nbformat": 4,
 "nbformat_minor": 5
}
